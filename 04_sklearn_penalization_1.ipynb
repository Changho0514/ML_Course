{
  "cells": [
    {
      "cell_type": "markdown",
      "metadata": {
        "id": "view-in-github",
        "colab_type": "text"
      },
      "source": [
        "<a href=\"https://colab.research.google.com/github/Changho0514/web1/blob/main/04_sklearn_penalization_1.ipynb\" target=\"_parent\"><img src=\"https://colab.research.google.com/assets/colab-badge.svg\" alt=\"Open In Colab\"/></a>"
      ]
    },
    {
      "cell_type": "markdown",
      "metadata": {
        "id": "BRxMK8x5x6it"
      },
      "source": [
        "In this notebook we will explore the three methods and compare their results with a multiple liear regression model applied to our synthetic data generated from the following true model f(x)"
      ]
    },
    {
      "cell_type": "markdown",
      "metadata": {
        "id": "-SjdRLfsx6iw"
      },
      "source": [
        "$$\n",
        "y=f(x)=x+2x^2-3x^3+\\epsilon\n",
        "$$"
      ]
    },
    {
      "cell_type": "code",
      "execution_count": 3,
      "metadata": {
        "id": "gwRlBzDFx6ix"
      },
      "outputs": [],
      "source": [
        "import numpy as np\n",
        "import pandas as pd\n",
        "import matplotlib.pyplot as plt\n",
        "import seaborn as sns\n",
        "from sklearn.linear_model import LinearRegression\n",
        "import statsmodels.api as sm\n",
        "sns.set()  #if you want to use seaborn themes with matplotlib functions\n",
        "import warnings\n",
        "warnings.filterwarnings('ignore')"
      ]
    },
    {
      "cell_type": "code",
      "execution_count": 7,
      "metadata": {
        "id": "NV5JqzmUx6iy"
      },
      "outputs": [],
      "source": [
        " rand_state= 1000"
      ]
    },
    {
      "cell_type": "code",
      "source": [
        "from google.colab import drive\n",
        "drive.mount('/content/drive')"
      ],
      "metadata": {
        "id": "Ho8gZF3N0iUD",
        "outputId": "601327c4-f66a-4972-a8d9-a17a86ff1276",
        "colab": {
          "base_uri": "https://localhost:8080/"
        }
      },
      "execution_count": 8,
      "outputs": [
        {
          "output_type": "stream",
          "name": "stdout",
          "text": [
            "Mounted at /content/drive\n"
          ]
        }
      ]
    },
    {
      "cell_type": "code",
      "execution_count": 12,
      "metadata": {
        "id": "D6Yxa76ix6iz"
      },
      "outputs": [],
      "source": [
        "df=pd.read_csv('/content/drive/MyDrive/Regularization_synthetic.csv')"
      ]
    },
    {
      "cell_type": "code",
      "execution_count": 13,
      "metadata": {
        "id": "h_r0LerVx6iz",
        "outputId": "4679873f-c731-4be5-b29e-0d81547e63d7",
        "colab": {
          "base_uri": "https://localhost:8080/",
          "height": 206
        }
      },
      "outputs": [
        {
          "output_type": "execute_result",
          "data": {
            "text/html": [
              "\n",
              "  <div id=\"df-e48e814c-849c-4861-be01-26a6e9e4b76b\">\n",
              "    <div class=\"colab-df-container\">\n",
              "      <div>\n",
              "<style scoped>\n",
              "    .dataframe tbody tr th:only-of-type {\n",
              "        vertical-align: middle;\n",
              "    }\n",
              "\n",
              "    .dataframe tbody tr th {\n",
              "        vertical-align: top;\n",
              "    }\n",
              "\n",
              "    .dataframe thead th {\n",
              "        text-align: right;\n",
              "    }\n",
              "</style>\n",
              "<table border=\"1\" class=\"dataframe\">\n",
              "  <thead>\n",
              "    <tr style=\"text-align: right;\">\n",
              "      <th></th>\n",
              "      <th>X1</th>\n",
              "      <th>X2</th>\n",
              "      <th>X3</th>\n",
              "      <th>X4</th>\n",
              "      <th>X5</th>\n",
              "      <th>y</th>\n",
              "    </tr>\n",
              "  </thead>\n",
              "  <tbody>\n",
              "    <tr>\n",
              "      <th>0</th>\n",
              "      <td>1.668068</td>\n",
              "      <td>2.782452</td>\n",
              "      <td>4.641320</td>\n",
              "      <td>7.742038</td>\n",
              "      <td>12.914249</td>\n",
              "      <td>-3.901562</td>\n",
              "    </tr>\n",
              "    <tr>\n",
              "      <th>1</th>\n",
              "      <td>0.925862</td>\n",
              "      <td>0.857220</td>\n",
              "      <td>0.793667</td>\n",
              "      <td>0.734826</td>\n",
              "      <td>0.680348</td>\n",
              "      <td>-0.384578</td>\n",
              "    </tr>\n",
              "    <tr>\n",
              "      <th>2</th>\n",
              "      <td>1.057997</td>\n",
              "      <td>1.119357</td>\n",
              "      <td>1.184276</td>\n",
              "      <td>1.252960</td>\n",
              "      <td>1.325628</td>\n",
              "      <td>12.493677</td>\n",
              "    </tr>\n",
              "    <tr>\n",
              "      <th>3</th>\n",
              "      <td>-0.920339</td>\n",
              "      <td>0.847024</td>\n",
              "      <td>-0.779549</td>\n",
              "      <td>0.717449</td>\n",
              "      <td>-0.660297</td>\n",
              "      <td>12.237389</td>\n",
              "    </tr>\n",
              "    <tr>\n",
              "      <th>4</th>\n",
              "      <td>1.299748</td>\n",
              "      <td>1.689346</td>\n",
              "      <td>2.195725</td>\n",
              "      <td>2.853890</td>\n",
              "      <td>3.709339</td>\n",
              "      <td>-3.772851</td>\n",
              "    </tr>\n",
              "  </tbody>\n",
              "</table>\n",
              "</div>\n",
              "      <button class=\"colab-df-convert\" onclick=\"convertToInteractive('df-e48e814c-849c-4861-be01-26a6e9e4b76b')\"\n",
              "              title=\"Convert this dataframe to an interactive table.\"\n",
              "              style=\"display:none;\">\n",
              "        \n",
              "  <svg xmlns=\"http://www.w3.org/2000/svg\" height=\"24px\"viewBox=\"0 0 24 24\"\n",
              "       width=\"24px\">\n",
              "    <path d=\"M0 0h24v24H0V0z\" fill=\"none\"/>\n",
              "    <path d=\"M18.56 5.44l.94 2.06.94-2.06 2.06-.94-2.06-.94-.94-2.06-.94 2.06-2.06.94zm-11 1L8.5 8.5l.94-2.06 2.06-.94-2.06-.94L8.5 2.5l-.94 2.06-2.06.94zm10 10l.94 2.06.94-2.06 2.06-.94-2.06-.94-.94-2.06-.94 2.06-2.06.94z\"/><path d=\"M17.41 7.96l-1.37-1.37c-.4-.4-.92-.59-1.43-.59-.52 0-1.04.2-1.43.59L10.3 9.45l-7.72 7.72c-.78.78-.78 2.05 0 2.83L4 21.41c.39.39.9.59 1.41.59.51 0 1.02-.2 1.41-.59l7.78-7.78 2.81-2.81c.8-.78.8-2.07 0-2.86zM5.41 20L4 18.59l7.72-7.72 1.47 1.35L5.41 20z\"/>\n",
              "  </svg>\n",
              "      </button>\n",
              "      \n",
              "  <style>\n",
              "    .colab-df-container {\n",
              "      display:flex;\n",
              "      flex-wrap:wrap;\n",
              "      gap: 12px;\n",
              "    }\n",
              "\n",
              "    .colab-df-convert {\n",
              "      background-color: #E8F0FE;\n",
              "      border: none;\n",
              "      border-radius: 50%;\n",
              "      cursor: pointer;\n",
              "      display: none;\n",
              "      fill: #1967D2;\n",
              "      height: 32px;\n",
              "      padding: 0 0 0 0;\n",
              "      width: 32px;\n",
              "    }\n",
              "\n",
              "    .colab-df-convert:hover {\n",
              "      background-color: #E2EBFA;\n",
              "      box-shadow: 0px 1px 2px rgba(60, 64, 67, 0.3), 0px 1px 3px 1px rgba(60, 64, 67, 0.15);\n",
              "      fill: #174EA6;\n",
              "    }\n",
              "\n",
              "    [theme=dark] .colab-df-convert {\n",
              "      background-color: #3B4455;\n",
              "      fill: #D2E3FC;\n",
              "    }\n",
              "\n",
              "    [theme=dark] .colab-df-convert:hover {\n",
              "      background-color: #434B5C;\n",
              "      box-shadow: 0px 1px 3px 1px rgba(0, 0, 0, 0.15);\n",
              "      filter: drop-shadow(0px 1px 2px rgba(0, 0, 0, 0.3));\n",
              "      fill: #FFFFFF;\n",
              "    }\n",
              "  </style>\n",
              "\n",
              "      <script>\n",
              "        const buttonEl =\n",
              "          document.querySelector('#df-e48e814c-849c-4861-be01-26a6e9e4b76b button.colab-df-convert');\n",
              "        buttonEl.style.display =\n",
              "          google.colab.kernel.accessAllowed ? 'block' : 'none';\n",
              "\n",
              "        async function convertToInteractive(key) {\n",
              "          const element = document.querySelector('#df-e48e814c-849c-4861-be01-26a6e9e4b76b');\n",
              "          const dataTable =\n",
              "            await google.colab.kernel.invokeFunction('convertToInteractive',\n",
              "                                                     [key], {});\n",
              "          if (!dataTable) return;\n",
              "\n",
              "          const docLinkHtml = 'Like what you see? Visit the ' +\n",
              "            '<a target=\"_blank\" href=https://colab.research.google.com/notebooks/data_table.ipynb>data table notebook</a>'\n",
              "            + ' to learn more about interactive tables.';\n",
              "          element.innerHTML = '';\n",
              "          dataTable['output_type'] = 'display_data';\n",
              "          await google.colab.output.renderOutput(dataTable, element);\n",
              "          const docLink = document.createElement('div');\n",
              "          docLink.innerHTML = docLinkHtml;\n",
              "          element.appendChild(docLink);\n",
              "        }\n",
              "      </script>\n",
              "    </div>\n",
              "  </div>\n",
              "  "
            ],
            "text/plain": [
              "         X1        X2        X3        X4         X5          y\n",
              "0  1.668068  2.782452  4.641320  7.742038  12.914249  -3.901562\n",
              "1  0.925862  0.857220  0.793667  0.734826   0.680348  -0.384578\n",
              "2  1.057997  1.119357  1.184276  1.252960   1.325628  12.493677\n",
              "3 -0.920339  0.847024 -0.779549  0.717449  -0.660297  12.237389\n",
              "4  1.299748  1.689346  2.195725  2.853890   3.709339  -3.772851"
            ]
          },
          "metadata": {},
          "execution_count": 13
        }
      ],
      "source": [
        "df.head()"
      ]
    },
    {
      "cell_type": "code",
      "execution_count": 14,
      "metadata": {
        "id": "HRlD4N5Ex6i0",
        "outputId": "48b23b56-8830-4462-a099-2eff3b9b8597",
        "colab": {
          "base_uri": "https://localhost:8080/",
          "height": 284
        }
      },
      "outputs": [
        {
          "output_type": "display_data",
          "data": {
            "image/png": "[encoded data removed]",
            "text/plain": [
              "<Figure size 432x288 with 1 Axes>"
            ]
          },
          "metadata": {}
        }
      ],
      "source": [
        "sns.scatterplot(x='X1', y='y', data=df)\n",
        "plt.show()"
      ]
    },
    {
      "cell_type": "markdown",
      "metadata": {
        "id": "6EqZMcpwx6i1"
      },
      "source": [
        "**important**: we need to normalize the features before training the models."
      ]
    },
    {
      "cell_type": "code",
      "execution_count": 15,
      "metadata": {
        "id": "8JMasuw8x6i2"
      },
      "outputs": [],
      "source": [
        "from sklearn.preprocessing import StandardScaler"
      ]
    },
    {
      "cell_type": "code",
      "execution_count": 18,
      "metadata": {
        "id": "F4-dbKqSx6i2",
        "outputId": "5df0cfcb-0536-4106-c0bb-8d0888ec4740",
        "colab": {
          "base_uri": "https://localhost:8080/"
        }
      },
      "outputs": [
        {
          "output_type": "execute_result",
          "data": {
            "text/plain": [
              "array([ 1.68559489,  1.10379599,  0.93969261,  0.28529469,  0.20893775,\n",
              "       -0.41160092])"
            ]
          },
          "metadata": {},
          "execution_count": 18
        }
      ],
      "source": [
        "scaler=StandardScaler()\n",
        "df_sc= scaler.fit_transform(df)  #normalize된 값으로 치환되어 나옴\n",
        "df_sc[0]"
      ]
    },
    {
      "cell_type": "code",
      "execution_count": 19,
      "metadata": {
        "id": "yKZeORqgx6i3",
        "outputId": "ee040dc4-f20d-411b-a72a-6c7616f6009b",
        "colab": {
          "base_uri": "https://localhost:8080/",
          "height": 300
        }
      },
      "outputs": [
        {
          "output_type": "execute_result",
          "data": {
            "text/html": [
              "\n",
              "  <div id=\"df-4881fffb-52ae-4f32-a9cc-d69344d02e3b\">\n",
              "    <div class=\"colab-df-container\">\n",
              "      <div>\n",
              "<style scoped>\n",
              "    .dataframe tbody tr th:only-of-type {\n",
              "        vertical-align: middle;\n",
              "    }\n",
              "\n",
              "    .dataframe tbody tr th {\n",
              "        vertical-align: top;\n",
              "    }\n",
              "\n",
              "    .dataframe thead th {\n",
              "        text-align: right;\n",
              "    }\n",
              "</style>\n",
              "<table border=\"1\" class=\"dataframe\">\n",
              "  <thead>\n",
              "    <tr style=\"text-align: right;\">\n",
              "      <th></th>\n",
              "      <th>X1</th>\n",
              "      <th>X2</th>\n",
              "      <th>X3</th>\n",
              "      <th>X4</th>\n",
              "      <th>X5</th>\n",
              "      <th>y</th>\n",
              "    </tr>\n",
              "  </thead>\n",
              "  <tbody>\n",
              "    <tr>\n",
              "      <th>count</th>\n",
              "      <td>100.000000</td>\n",
              "      <td>100.000000</td>\n",
              "      <td>100.000000</td>\n",
              "      <td>1.000000e+02</td>\n",
              "      <td>1.000000e+02</td>\n",
              "      <td>100.000000</td>\n",
              "    </tr>\n",
              "    <tr>\n",
              "      <th>mean</th>\n",
              "      <td>-0.045528</td>\n",
              "      <td>1.035573</td>\n",
              "      <td>0.028803</td>\n",
              "      <td>3.577067e+00</td>\n",
              "      <td>2.649662e+00</td>\n",
              "      <td>3.163589</td>\n",
              "    </tr>\n",
              "    <tr>\n",
              "      <th>std</th>\n",
              "      <td>1.021734</td>\n",
              "      <td>1.590583</td>\n",
              "      <td>4.933266</td>\n",
              "      <td>1.467239e+01</td>\n",
              "      <td>4.937498e+01</td>\n",
              "      <td>17.251525</td>\n",
              "    </tr>\n",
              "    <tr>\n",
              "      <th>min</th>\n",
              "      <td>-2.502813</td>\n",
              "      <td>0.000077</td>\n",
              "      <td>-15.677801</td>\n",
              "      <td>5.990000e-09</td>\n",
              "      <td>-9.820688e+01</td>\n",
              "      <td>-96.615135</td>\n",
              "    </tr>\n",
              "    <tr>\n",
              "      <th>25%</th>\n",
              "      <td>-0.715772</td>\n",
              "      <td>0.106957</td>\n",
              "      <td>-0.367584</td>\n",
              "      <td>1.146202e-02</td>\n",
              "      <td>-1.894007e-01</td>\n",
              "      <td>-4.740569</td>\n",
              "    </tr>\n",
              "    <tr>\n",
              "      <th>50%</th>\n",
              "      <td>-0.056092</td>\n",
              "      <td>0.513483</td>\n",
              "      <td>-0.000186</td>\n",
              "      <td>2.639740e-01</td>\n",
              "      <td>-6.630000e-07</td>\n",
              "      <td>3.535766</td>\n",
              "    </tr>\n",
              "    <tr>\n",
              "      <th>75%</th>\n",
              "      <td>0.708103</td>\n",
              "      <td>1.265628</td>\n",
              "      <td>0.355353</td>\n",
              "      <td>1.605267e+00</td>\n",
              "      <td>1.785395e-01</td>\n",
              "      <td>12.250487</td>\n",
              "    </tr>\n",
              "    <tr>\n",
              "      <th>max</th>\n",
              "      <td>3.428563</td>\n",
              "      <td>11.755044</td>\n",
              "      <td>40.302907</td>\n",
              "      <td>1.381811e+02</td>\n",
              "      <td>4.737624e+02</td>\n",
              "      <td>61.375324</td>\n",
              "    </tr>\n",
              "  </tbody>\n",
              "</table>\n",
              "</div>\n",
              "      <button class=\"colab-df-convert\" onclick=\"convertToInteractive('df-4881fffb-52ae-4f32-a9cc-d69344d02e3b')\"\n",
              "              title=\"Convert this dataframe to an interactive table.\"\n",
              "              style=\"display:none;\">\n",
              "        \n",
              "  <svg xmlns=\"http://www.w3.org/2000/svg\" height=\"24px\"viewBox=\"0 0 24 24\"\n",
              "       width=\"24px\">\n",
              "    <path d=\"M0 0h24v24H0V0z\" fill=\"none\"/>\n",
              "    <path d=\"M18.56 5.44l.94 2.06.94-2.06 2.06-.94-2.06-.94-.94-2.06-.94 2.06-2.06.94zm-11 1L8.5 8.5l.94-2.06 2.06-.94-2.06-.94L8.5 2.5l-.94 2.06-2.06.94zm10 10l.94 2.06.94-2.06 2.06-.94-2.06-.94-.94-2.06-.94 2.06-2.06.94z\"/><path d=\"M17.41 7.96l-1.37-1.37c-.4-.4-.92-.59-1.43-.59-.52 0-1.04.2-1.43.59L10.3 9.45l-7.72 7.72c-.78.78-.78 2.05 0 2.83L4 21.41c.39.39.9.59 1.41.59.51 0 1.02-.2 1.41-.59l7.78-7.78 2.81-2.81c.8-.78.8-2.07 0-2.86zM5.41 20L4 18.59l7.72-7.72 1.47 1.35L5.41 20z\"/>\n",
              "  </svg>\n",
              "      </button>\n",
              "      \n",
              "  <style>\n",
              "    .colab-df-container {\n",
              "      display:flex;\n",
              "      flex-wrap:wrap;\n",
              "      gap: 12px;\n",
              "    }\n",
              "\n",
              "    .colab-df-convert {\n",
              "      background-color: #E8F0FE;\n",
              "      border: none;\n",
              "      border-radius: 50%;\n",
              "      cursor: pointer;\n",
              "      display: none;\n",
              "      fill: #1967D2;\n",
              "      height: 32px;\n",
              "      padding: 0 0 0 0;\n",
              "      width: 32px;\n",
              "    }\n",
              "\n",
              "    .colab-df-convert:hover {\n",
              "      background-color: #E2EBFA;\n",
              "      box-shadow: 0px 1px 2px rgba(60, 64, 67, 0.3), 0px 1px 3px 1px rgba(60, 64, 67, 0.15);\n",
              "      fill: #174EA6;\n",
              "    }\n",
              "\n",
              "    [theme=dark] .colab-df-convert {\n",
              "      background-color: #3B4455;\n",
              "      fill: #D2E3FC;\n",
              "    }\n",
              "\n",
              "    [theme=dark] .colab-df-convert:hover {\n",
              "      background-color: #434B5C;\n",
              "      box-shadow: 0px 1px 3px 1px rgba(0, 0, 0, 0.15);\n",
              "      filter: drop-shadow(0px 1px 2px rgba(0, 0, 0, 0.3));\n",
              "      fill: #FFFFFF;\n",
              "    }\n",
              "  </style>\n",
              "\n",
              "      <script>\n",
              "        const buttonEl =\n",
              "          document.querySelector('#df-4881fffb-52ae-4f32-a9cc-d69344d02e3b button.colab-df-convert');\n",
              "        buttonEl.style.display =\n",
              "          google.colab.kernel.accessAllowed ? 'block' : 'none';\n",
              "\n",
              "        async function convertToInteractive(key) {\n",
              "          const element = document.querySelector('#df-4881fffb-52ae-4f32-a9cc-d69344d02e3b');\n",
              "          const dataTable =\n",
              "            await google.colab.kernel.invokeFunction('convertToInteractive',\n",
              "                                                     [key], {});\n",
              "          if (!dataTable) return;\n",
              "\n",
              "          const docLinkHtml = 'Like what you see? Visit the ' +\n",
              "            '<a target=\"_blank\" href=https://colab.research.google.com/notebooks/data_table.ipynb>data table notebook</a>'\n",
              "            + ' to learn more about interactive tables.';\n",
              "          element.innerHTML = '';\n",
              "          dataTable['output_type'] = 'display_data';\n",
              "          await google.colab.output.renderOutput(dataTable, element);\n",
              "          const docLink = document.createElement('div');\n",
              "          docLink.innerHTML = docLinkHtml;\n",
              "          element.appendChild(docLink);\n",
              "        }\n",
              "      </script>\n",
              "    </div>\n",
              "  </div>\n",
              "  "
            ],
            "text/plain": [
              "               X1          X2  ...            X5           y\n",
              "count  100.000000  100.000000  ...  1.000000e+02  100.000000\n",
              "mean    -0.045528    1.035573  ...  2.649662e+00    3.163589\n",
              "std      1.021734    1.590583  ...  4.937498e+01   17.251525\n",
              "min     -2.502813    0.000077  ... -9.820688e+01  -96.615135\n",
              "25%     -0.715772    0.106957  ... -1.894007e-01   -4.740569\n",
              "50%     -0.056092    0.513483  ... -6.630000e-07    3.535766\n",
              "75%      0.708103    1.265628  ...  1.785395e-01   12.250487\n",
              "max      3.428563   11.755044  ...  4.737624e+02   61.375324\n",
              "\n",
              "[8 rows x 6 columns]"
            ]
          },
          "metadata": {},
          "execution_count": 19
        }
      ],
      "source": [
        "df.describe()"
      ]
    },
    {
      "cell_type": "code",
      "execution_count": 23,
      "metadata": {
        "id": "paUKQwzYx6i3",
        "outputId": "4510ddae-bd94-4c0b-fecb-9d83221c3181",
        "colab": {
          "base_uri": "https://localhost:8080/",
          "height": 206
        }
      },
      "outputs": [
        {
          "output_type": "execute_result",
          "data": {
            "text/html": [
              "\n",
              "  <div id=\"df-d21ebb9a-15d5-4ce3-8bc8-2e7ff259428d\">\n",
              "    <div class=\"colab-df-container\">\n",
              "      <div>\n",
              "<style scoped>\n",
              "    .dataframe tbody tr th:only-of-type {\n",
              "        vertical-align: middle;\n",
              "    }\n",
              "\n",
              "    .dataframe tbody tr th {\n",
              "        vertical-align: top;\n",
              "    }\n",
              "\n",
              "    .dataframe thead th {\n",
              "        text-align: right;\n",
              "    }\n",
              "</style>\n",
              "<table border=\"1\" class=\"dataframe\">\n",
              "  <thead>\n",
              "    <tr style=\"text-align: right;\">\n",
              "      <th></th>\n",
              "      <th>X1</th>\n",
              "      <th>X2</th>\n",
              "      <th>X3</th>\n",
              "      <th>X4</th>\n",
              "      <th>X5</th>\n",
              "      <th>y</th>\n",
              "    </tr>\n",
              "  </thead>\n",
              "  <tbody>\n",
              "    <tr>\n",
              "      <th>0</th>\n",
              "      <td>1.685595</td>\n",
              "      <td>1.103796</td>\n",
              "      <td>0.939693</td>\n",
              "      <td>0.285295</td>\n",
              "      <td>0.208938</td>\n",
              "      <td>-0.411601</td>\n",
              "    </tr>\n",
              "    <tr>\n",
              "      <th>1</th>\n",
              "      <td>0.955517</td>\n",
              "      <td>-0.112695</td>\n",
              "      <td>0.155823</td>\n",
              "      <td>-0.194689</td>\n",
              "      <td>-0.040086</td>\n",
              "      <td>-0.206709</td>\n",
              "    </tr>\n",
              "    <tr>\n",
              "      <th>2</th>\n",
              "      <td>1.085492</td>\n",
              "      <td>0.052941</td>\n",
              "      <td>0.235401</td>\n",
              "      <td>-0.159198</td>\n",
              "      <td>-0.026951</td>\n",
              "      <td>0.543551</td>\n",
              "    </tr>\n",
              "    <tr>\n",
              "      <th>3</th>\n",
              "      <td>-0.860516</td>\n",
              "      <td>-0.119138</td>\n",
              "      <td>-0.164683</td>\n",
              "      <td>-0.195880</td>\n",
              "      <td>-0.067375</td>\n",
              "      <td>0.528621</td>\n",
              "    </tr>\n",
              "    <tr>\n",
              "      <th>4</th>\n",
              "      <td>1.323294</td>\n",
              "      <td>0.413098</td>\n",
              "      <td>0.441460</td>\n",
              "      <td>-0.049537</td>\n",
              "      <td>0.021570</td>\n",
              "      <td>-0.404102</td>\n",
              "    </tr>\n",
              "  </tbody>\n",
              "</table>\n",
              "</div>\n",
              "      <button class=\"colab-df-convert\" onclick=\"convertToInteractive('df-d21ebb9a-15d5-4ce3-8bc8-2e7ff259428d')\"\n",
              "              title=\"Convert this dataframe to an interactive table.\"\n",
              "              style=\"display:none;\">\n",
              "        \n",
              "  <svg xmlns=\"http://www.w3.org/2000/svg\" height=\"24px\"viewBox=\"0 0 24 24\"\n",
              "       width=\"24px\">\n",
              "    <path d=\"M0 0h24v24H0V0z\" fill=\"none\"/>\n",
              "    <path d=\"M18.56 5.44l.94 2.06.94-2.06 2.06-.94-2.06-.94-.94-2.06-.94 2.06-2.06.94zm-11 1L8.5 8.5l.94-2.06 2.06-.94-2.06-.94L8.5 2.5l-.94 2.06-2.06.94zm10 10l.94 2.06.94-2.06 2.06-.94-2.06-.94-.94-2.06-.94 2.06-2.06.94z\"/><path d=\"M17.41 7.96l-1.37-1.37c-.4-.4-.92-.59-1.43-.59-.52 0-1.04.2-1.43.59L10.3 9.45l-7.72 7.72c-.78.78-.78 2.05 0 2.83L4 21.41c.39.39.9.59 1.41.59.51 0 1.02-.2 1.41-.59l7.78-7.78 2.81-2.81c.8-.78.8-2.07 0-2.86zM5.41 20L4 18.59l7.72-7.72 1.47 1.35L5.41 20z\"/>\n",
              "  </svg>\n",
              "      </button>\n",
              "      \n",
              "  <style>\n",
              "    .colab-df-container {\n",
              "      display:flex;\n",
              "      flex-wrap:wrap;\n",
              "      gap: 12px;\n",
              "    }\n",
              "\n",
              "    .colab-df-convert {\n",
              "      background-color: #E8F0FE;\n",
              "      border: none;\n",
              "      border-radius: 50%;\n",
              "      cursor: pointer;\n",
              "      display: none;\n",
              "      fill: #1967D2;\n",
              "      height: 32px;\n",
              "      padding: 0 0 0 0;\n",
              "      width: 32px;\n",
              "    }\n",
              "\n",
              "    .colab-df-convert:hover {\n",
              "      background-color: #E2EBFA;\n",
              "      box-shadow: 0px 1px 2px rgba(60, 64, 67, 0.3), 0px 1px 3px 1px rgba(60, 64, 67, 0.15);\n",
              "      fill: #174EA6;\n",
              "    }\n",
              "\n",
              "    [theme=dark] .colab-df-convert {\n",
              "      background-color: #3B4455;\n",
              "      fill: #D2E3FC;\n",
              "    }\n",
              "\n",
              "    [theme=dark] .colab-df-convert:hover {\n",
              "      background-color: #434B5C;\n",
              "      box-shadow: 0px 1px 3px 1px rgba(0, 0, 0, 0.15);\n",
              "      filter: drop-shadow(0px 1px 2px rgba(0, 0, 0, 0.3));\n",
              "      fill: #FFFFFF;\n",
              "    }\n",
              "  </style>\n",
              "\n",
              "      <script>\n",
              "        const buttonEl =\n",
              "          document.querySelector('#df-d21ebb9a-15d5-4ce3-8bc8-2e7ff259428d button.colab-df-convert');\n",
              "        buttonEl.style.display =\n",
              "          google.colab.kernel.accessAllowed ? 'block' : 'none';\n",
              "\n",
              "        async function convertToInteractive(key) {\n",
              "          const element = document.querySelector('#df-d21ebb9a-15d5-4ce3-8bc8-2e7ff259428d');\n",
              "          const dataTable =\n",
              "            await google.colab.kernel.invokeFunction('convertToInteractive',\n",
              "                                                     [key], {});\n",
              "          if (!dataTable) return;\n",
              "\n",
              "          const docLinkHtml = 'Like what you see? Visit the ' +\n",
              "            '<a target=\"_blank\" href=https://colab.research.google.com/notebooks/data_table.ipynb>data table notebook</a>'\n",
              "            + ' to learn more about interactive tables.';\n",
              "          element.innerHTML = '';\n",
              "          dataTable['output_type'] = 'display_data';\n",
              "          await google.colab.output.renderOutput(dataTable, element);\n",
              "          const docLink = document.createElement('div');\n",
              "          docLink.innerHTML = docLinkHtml;\n",
              "          element.appendChild(docLink);\n",
              "        }\n",
              "      </script>\n",
              "    </div>\n",
              "  </div>\n",
              "  "
            ],
            "text/plain": [
              "         X1        X2        X3        X4        X5         y\n",
              "0  1.685595  1.103796  0.939693  0.285295  0.208938 -0.411601\n",
              "1  0.955517 -0.112695  0.155823 -0.194689 -0.040086 -0.206709\n",
              "2  1.085492  0.052941  0.235401 -0.159198 -0.026951  0.543551\n",
              "3 -0.860516 -0.119138 -0.164683 -0.195880 -0.067375  0.528621\n",
              "4  1.323294  0.413098  0.441460 -0.049537  0.021570 -0.404102"
            ]
          },
          "metadata": {},
          "execution_count": 23
        }
      ],
      "source": [
        "df_sc = pd.DataFrame(df_sc, columns=df.columns)  #\n",
        "df_sc.head()"
      ]
    },
    {
      "cell_type": "code",
      "source": [
        "df_sc.describe()   #scaling되었음."
      ],
      "metadata": {
        "id": "rg9-fyji1sco",
        "outputId": "b3d24f34-1224-4a0e-bb13-58a48161f7df",
        "colab": {
          "base_uri": "https://localhost:8080/",
          "height": 300
        }
      },
      "execution_count": 24,
      "outputs": [
        {
          "output_type": "execute_result",
          "data": {
            "text/html": [
              "\n",
              "  <div id=\"df-2a0b0974-b84a-4888-9ba1-04938e47d288\">\n",
              "    <div class=\"colab-df-container\">\n",
              "      <div>\n",
              "<style scoped>\n",
              "    .dataframe tbody tr th:only-of-type {\n",
              "        vertical-align: middle;\n",
              "    }\n",
              "\n",
              "    .dataframe tbody tr th {\n",
              "        vertical-align: top;\n",
              "    }\n",
              "\n",
              "    .dataframe thead th {\n",
              "        text-align: right;\n",
              "    }\n",
              "</style>\n",
              "<table border=\"1\" class=\"dataframe\">\n",
              "  <thead>\n",
              "    <tr style=\"text-align: right;\">\n",
              "      <th></th>\n",
              "      <th>X1</th>\n",
              "      <th>X2</th>\n",
              "      <th>X3</th>\n",
              "      <th>X4</th>\n",
              "      <th>X5</th>\n",
              "      <th>y</th>\n",
              "    </tr>\n",
              "  </thead>\n",
              "  <tbody>\n",
              "    <tr>\n",
              "      <th>count</th>\n",
              "      <td>1.000000e+02</td>\n",
              "      <td>1.000000e+02</td>\n",
              "      <td>1.000000e+02</td>\n",
              "      <td>1.000000e+02</td>\n",
              "      <td>1.000000e+02</td>\n",
              "      <td>1.000000e+02</td>\n",
              "    </tr>\n",
              "    <tr>\n",
              "      <th>mean</th>\n",
              "      <td>-5.218048e-17</td>\n",
              "      <td>1.088019e-16</td>\n",
              "      <td>-1.002670e-17</td>\n",
              "      <td>-6.439294e-17</td>\n",
              "      <td>-3.094747e-17</td>\n",
              "      <td>-6.106227e-18</td>\n",
              "    </tr>\n",
              "    <tr>\n",
              "      <th>std</th>\n",
              "      <td>1.005038e+00</td>\n",
              "      <td>1.005038e+00</td>\n",
              "      <td>1.005038e+00</td>\n",
              "      <td>1.005038e+00</td>\n",
              "      <td>1.005038e+00</td>\n",
              "      <td>1.005038e+00</td>\n",
              "    </tr>\n",
              "    <tr>\n",
              "      <th>min</th>\n",
              "      <td>-2.417131e+00</td>\n",
              "      <td>-6.542960e-01</td>\n",
              "      <td>-3.199854e+00</td>\n",
              "      <td>-2.450240e-01</td>\n",
              "      <td>-2.052955e+00</td>\n",
              "      <td>-5.812900e+00</td>\n",
              "    </tr>\n",
              "    <tr>\n",
              "      <th>25%</th>\n",
              "      <td>-6.592917e-01</td>\n",
              "      <td>-5.867625e-01</td>\n",
              "      <td>-8.075457e-02</td>\n",
              "      <td>-2.442389e-01</td>\n",
              "      <td>-5.778970e-02</td>\n",
              "      <td>-4.604797e-01</td>\n",
              "    </tr>\n",
              "    <tr>\n",
              "      <th>50%</th>\n",
              "      <td>-1.039141e-02</td>\n",
              "      <td>-3.298919e-01</td>\n",
              "      <td>-5.905921e-03</td>\n",
              "      <td>-2.269422e-01</td>\n",
              "      <td>-5.393443e-02</td>\n",
              "      <td>2.168222e-02</td>\n",
              "    </tr>\n",
              "    <tr>\n",
              "      <th>75%</th>\n",
              "      <td>7.413157e-01</td>\n",
              "      <td>1.453640e-01</td>\n",
              "      <td>6.652695e-02</td>\n",
              "      <td>-1.350655e-01</td>\n",
              "      <td>-5.030020e-02</td>\n",
              "      <td>5.293837e-01</td>\n",
              "    </tr>\n",
              "    <tr>\n",
              "      <th>max</th>\n",
              "      <td>3.417322e+00</td>\n",
              "      <td>6.773285e+00</td>\n",
              "      <td>8.204909e+00</td>\n",
              "      <td>9.220184e+00</td>\n",
              "      <td>9.589597e+00</td>\n",
              "      <td>3.391294e+00</td>\n",
              "    </tr>\n",
              "  </tbody>\n",
              "</table>\n",
              "</div>\n",
              "      <button class=\"colab-df-convert\" onclick=\"convertToInteractive('df-2a0b0974-b84a-4888-9ba1-04938e47d288')\"\n",
              "              title=\"Convert this dataframe to an interactive table.\"\n",
              "              style=\"display:none;\">\n",
              "        \n",
              "  <svg xmlns=\"http://www.w3.org/2000/svg\" height=\"24px\"viewBox=\"0 0 24 24\"\n",
              "       width=\"24px\">\n",
              "    <path d=\"M0 0h24v24H0V0z\" fill=\"none\"/>\n",
              "    <path d=\"M18.56 5.44l.94 2.06.94-2.06 2.06-.94-2.06-.94-.94-2.06-.94 2.06-2.06.94zm-11 1L8.5 8.5l.94-2.06 2.06-.94-2.06-.94L8.5 2.5l-.94 2.06-2.06.94zm10 10l.94 2.06.94-2.06 2.06-.94-2.06-.94-.94-2.06-.94 2.06-2.06.94z\"/><path d=\"M17.41 7.96l-1.37-1.37c-.4-.4-.92-.59-1.43-.59-.52 0-1.04.2-1.43.59L10.3 9.45l-7.72 7.72c-.78.78-.78 2.05 0 2.83L4 21.41c.39.39.9.59 1.41.59.51 0 1.02-.2 1.41-.59l7.78-7.78 2.81-2.81c.8-.78.8-2.07 0-2.86zM5.41 20L4 18.59l7.72-7.72 1.47 1.35L5.41 20z\"/>\n",
              "  </svg>\n",
              "      </button>\n",
              "      \n",
              "  <style>\n",
              "    .colab-df-container {\n",
              "      display:flex;\n",
              "      flex-wrap:wrap;\n",
              "      gap: 12px;\n",
              "    }\n",
              "\n",
              "    .colab-df-convert {\n",
              "      background-color: #E8F0FE;\n",
              "      border: none;\n",
              "      border-radius: 50%;\n",
              "      cursor: pointer;\n",
              "      display: none;\n",
              "      fill: #1967D2;\n",
              "      height: 32px;\n",
              "      padding: 0 0 0 0;\n",
              "      width: 32px;\n",
              "    }\n",
              "\n",
              "    .colab-df-convert:hover {\n",
              "      background-color: #E2EBFA;\n",
              "      box-shadow: 0px 1px 2px rgba(60, 64, 67, 0.3), 0px 1px 3px 1px rgba(60, 64, 67, 0.15);\n",
              "      fill: #174EA6;\n",
              "    }\n",
              "\n",
              "    [theme=dark] .colab-df-convert {\n",
              "      background-color: #3B4455;\n",
              "      fill: #D2E3FC;\n",
              "    }\n",
              "\n",
              "    [theme=dark] .colab-df-convert:hover {\n",
              "      background-color: #434B5C;\n",
              "      box-shadow: 0px 1px 3px 1px rgba(0, 0, 0, 0.15);\n",
              "      filter: drop-shadow(0px 1px 2px rgba(0, 0, 0, 0.3));\n",
              "      fill: #FFFFFF;\n",
              "    }\n",
              "  </style>\n",
              "\n",
              "      <script>\n",
              "        const buttonEl =\n",
              "          document.querySelector('#df-2a0b0974-b84a-4888-9ba1-04938e47d288 button.colab-df-convert');\n",
              "        buttonEl.style.display =\n",
              "          google.colab.kernel.accessAllowed ? 'block' : 'none';\n",
              "\n",
              "        async function convertToInteractive(key) {\n",
              "          const element = document.querySelector('#df-2a0b0974-b84a-4888-9ba1-04938e47d288');\n",
              "          const dataTable =\n",
              "            await google.colab.kernel.invokeFunction('convertToInteractive',\n",
              "                                                     [key], {});\n",
              "          if (!dataTable) return;\n",
              "\n",
              "          const docLinkHtml = 'Like what you see? Visit the ' +\n",
              "            '<a target=\"_blank\" href=https://colab.research.google.com/notebooks/data_table.ipynb>data table notebook</a>'\n",
              "            + ' to learn more about interactive tables.';\n",
              "          element.innerHTML = '';\n",
              "          dataTable['output_type'] = 'display_data';\n",
              "          await google.colab.output.renderOutput(dataTable, element);\n",
              "          const docLink = document.createElement('div');\n",
              "          docLink.innerHTML = docLinkHtml;\n",
              "          element.appendChild(docLink);\n",
              "        }\n",
              "      </script>\n",
              "    </div>\n",
              "  </div>\n",
              "  "
            ],
            "text/plain": [
              "                 X1            X2  ...            X5             y\n",
              "count  1.000000e+02  1.000000e+02  ...  1.000000e+02  1.000000e+02\n",
              "mean  -5.218048e-17  1.088019e-16  ... -3.094747e-17 -6.106227e-18\n",
              "std    1.005038e+00  1.005038e+00  ...  1.005038e+00  1.005038e+00\n",
              "min   -2.417131e+00 -6.542960e-01  ... -2.052955e+00 -5.812900e+00\n",
              "25%   -6.592917e-01 -5.867625e-01  ... -5.778970e-02 -4.604797e-01\n",
              "50%   -1.039141e-02 -3.298919e-01  ... -5.393443e-02  2.168222e-02\n",
              "75%    7.413157e-01  1.453640e-01  ... -5.030020e-02  5.293837e-01\n",
              "max    3.417322e+00  6.773285e+00  ...  9.589597e+00  3.391294e+00\n",
              "\n",
              "[8 rows x 6 columns]"
            ]
          },
          "metadata": {},
          "execution_count": 24
        }
      ]
    },
    {
      "cell_type": "code",
      "execution_count": 21,
      "metadata": {
        "id": "YX4Ovak6x6i3",
        "outputId": "e4508576-9093-40b3-e9fb-b2b24a7e7e9a",
        "colab": {
          "base_uri": "https://localhost:8080/",
          "height": 284
        }
      },
      "outputs": [
        {
          "output_type": "display_data",
          "data": {
            "image/png": "[encoded data removed]",
            "text/plain": [
              "<Figure size 432x288 with 1 Axes>"
            ]
          },
          "metadata": {}
        }
      ],
      "source": [
        "sns.scatterplot(x='X1', y='y', data=df_sc)\n",
        "plt.show()"
      ]
    },
    {
      "cell_type": "markdown",
      "metadata": {
        "id": "TbZaRhXax6i4"
      },
      "source": [
        "### Splitting the data"
      ]
    },
    {
      "cell_type": "code",
      "execution_count": 26,
      "metadata": {
        "id": "IlKsX-J_x6i4",
        "outputId": "80d7ad37-d2b5-4d75-cd26-623e74d872d6",
        "colab": {
          "base_uri": "https://localhost:8080/",
          "height": 206
        }
      },
      "outputs": [
        {
          "output_type": "execute_result",
          "data": {
            "text/html": [
              "\n",
              "  <div id=\"df-94297cf2-b305-42c3-aac1-0826702024b6\">\n",
              "    <div class=\"colab-df-container\">\n",
              "      <div>\n",
              "<style scoped>\n",
              "    .dataframe tbody tr th:only-of-type {\n",
              "        vertical-align: middle;\n",
              "    }\n",
              "\n",
              "    .dataframe tbody tr th {\n",
              "        vertical-align: top;\n",
              "    }\n",
              "\n",
              "    .dataframe thead th {\n",
              "        text-align: right;\n",
              "    }\n",
              "</style>\n",
              "<table border=\"1\" class=\"dataframe\">\n",
              "  <thead>\n",
              "    <tr style=\"text-align: right;\">\n",
              "      <th></th>\n",
              "      <th>X1</th>\n",
              "      <th>X2</th>\n",
              "      <th>X3</th>\n",
              "      <th>X4</th>\n",
              "      <th>X5</th>\n",
              "    </tr>\n",
              "  </thead>\n",
              "  <tbody>\n",
              "    <tr>\n",
              "      <th>37</th>\n",
              "      <td>1.464631</td>\n",
              "      <td>0.662152</td>\n",
              "      <td>0.606819</td>\n",
              "      <td>0.052327</td>\n",
              "      <td>0.073610</td>\n",
              "    </tr>\n",
              "    <tr>\n",
              "      <th>44</th>\n",
              "      <td>1.572794</td>\n",
              "      <td>0.870372</td>\n",
              "      <td>0.757779</td>\n",
              "      <td>0.153824</td>\n",
              "      <td>0.130178</td>\n",
              "    </tr>\n",
              "    <tr>\n",
              "      <th>55</th>\n",
              "      <td>0.275319</td>\n",
              "      <td>-0.619639</td>\n",
              "      <td>-0.003245</td>\n",
              "      <td>-0.244817</td>\n",
              "      <td>-0.053920</td>\n",
              "    </tr>\n",
              "    <tr>\n",
              "      <th>66</th>\n",
              "      <td>-0.493702</td>\n",
              "      <td>-0.464986</td>\n",
              "      <td>-0.039290</td>\n",
              "      <td>-0.238872</td>\n",
              "      <td>-0.054935</td>\n",
              "    </tr>\n",
              "    <tr>\n",
              "      <th>82</th>\n",
              "      <td>0.272588</td>\n",
              "      <td>-0.620456</td>\n",
              "      <td>-0.003337</td>\n",
              "      <td>-0.244827</td>\n",
              "      <td>-0.053921</td>\n",
              "    </tr>\n",
              "  </tbody>\n",
              "</table>\n",
              "</div>\n",
              "      <button class=\"colab-df-convert\" onclick=\"convertToInteractive('df-94297cf2-b305-42c3-aac1-0826702024b6')\"\n",
              "              title=\"Convert this dataframe to an interactive table.\"\n",
              "              style=\"display:none;\">\n",
              "        \n",
              "  <svg xmlns=\"http://www.w3.org/2000/svg\" height=\"24px\"viewBox=\"0 0 24 24\"\n",
              "       width=\"24px\">\n",
              "    <path d=\"M0 0h24v24H0V0z\" fill=\"none\"/>\n",
              "    <path d=\"M18.56 5.44l.94 2.06.94-2.06 2.06-.94-2.06-.94-.94-2.06-.94 2.06-2.06.94zm-11 1L8.5 8.5l.94-2.06 2.06-.94-2.06-.94L8.5 2.5l-.94 2.06-2.06.94zm10 10l.94 2.06.94-2.06 2.06-.94-2.06-.94-.94-2.06-.94 2.06-2.06.94z\"/><path d=\"M17.41 7.96l-1.37-1.37c-.4-.4-.92-.59-1.43-.59-.52 0-1.04.2-1.43.59L10.3 9.45l-7.72 7.72c-.78.78-.78 2.05 0 2.83L4 21.41c.39.39.9.59 1.41.59.51 0 1.02-.2 1.41-.59l7.78-7.78 2.81-2.81c.8-.78.8-2.07 0-2.86zM5.41 20L4 18.59l7.72-7.72 1.47 1.35L5.41 20z\"/>\n",
              "  </svg>\n",
              "      </button>\n",
              "      \n",
              "  <style>\n",
              "    .colab-df-container {\n",
              "      display:flex;\n",
              "      flex-wrap:wrap;\n",
              "      gap: 12px;\n",
              "    }\n",
              "\n",
              "    .colab-df-convert {\n",
              "      background-color: #E8F0FE;\n",
              "      border: none;\n",
              "      border-radius: 50%;\n",
              "      cursor: pointer;\n",
              "      display: none;\n",
              "      fill: #1967D2;\n",
              "      height: 32px;\n",
              "      padding: 0 0 0 0;\n",
              "      width: 32px;\n",
              "    }\n",
              "\n",
              "    .colab-df-convert:hover {\n",
              "      background-color: #E2EBFA;\n",
              "      box-shadow: 0px 1px 2px rgba(60, 64, 67, 0.3), 0px 1px 3px 1px rgba(60, 64, 67, 0.15);\n",
              "      fill: #174EA6;\n",
              "    }\n",
              "\n",
              "    [theme=dark] .colab-df-convert {\n",
              "      background-color: #3B4455;\n",
              "      fill: #D2E3FC;\n",
              "    }\n",
              "\n",
              "    [theme=dark] .colab-df-convert:hover {\n",
              "      background-color: #434B5C;\n",
              "      box-shadow: 0px 1px 3px 1px rgba(0, 0, 0, 0.15);\n",
              "      filter: drop-shadow(0px 1px 2px rgba(0, 0, 0, 0.3));\n",
              "      fill: #FFFFFF;\n",
              "    }\n",
              "  </style>\n",
              "\n",
              "      <script>\n",
              "        const buttonEl =\n",
              "          document.querySelector('#df-94297cf2-b305-42c3-aac1-0826702024b6 button.colab-df-convert');\n",
              "        buttonEl.style.display =\n",
              "          google.colab.kernel.accessAllowed ? 'block' : 'none';\n",
              "\n",
              "        async function convertToInteractive(key) {\n",
              "          const element = document.querySelector('#df-94297cf2-b305-42c3-aac1-0826702024b6');\n",
              "          const dataTable =\n",
              "            await google.colab.kernel.invokeFunction('convertToInteractive',\n",
              "                                                     [key], {});\n",
              "          if (!dataTable) return;\n",
              "\n",
              "          const docLinkHtml = 'Like what you see? Visit the ' +\n",
              "            '<a target=\"_blank\" href=https://colab.research.google.com/notebooks/data_table.ipynb>data table notebook</a>'\n",
              "            + ' to learn more about interactive tables.';\n",
              "          element.innerHTML = '';\n",
              "          dataTable['output_type'] = 'display_data';\n",
              "          await google.colab.output.renderOutput(dataTable, element);\n",
              "          const docLink = document.createElement('div');\n",
              "          docLink.innerHTML = docLinkHtml;\n",
              "          element.appendChild(docLink);\n",
              "        }\n",
              "      </script>\n",
              "    </div>\n",
              "  </div>\n",
              "  "
            ],
            "text/plain": [
              "          X1        X2        X3        X4        X5\n",
              "37  1.464631  0.662152  0.606819  0.052327  0.073610\n",
              "44  1.572794  0.870372  0.757779  0.153824  0.130178\n",
              "55  0.275319 -0.619639 -0.003245 -0.244817 -0.053920\n",
              "66 -0.493702 -0.464986 -0.039290 -0.238872 -0.054935\n",
              "82  0.272588 -0.620456 -0.003337 -0.244827 -0.053921"
            ]
          },
          "metadata": {},
          "execution_count": 26
        }
      ],
      "source": [
        "y = df_sc['y']\n",
        "X = df_sc.drop('y', axis=1)\n",
        "\n",
        "from sklearn.model_selection import train_test_split\n",
        "X_train, X_test, y_train, y_test = train_test_split(X, y, test_size=0.2, random_state=rand_state)\n",
        "X_train.head()"
      ]
    },
    {
      "cell_type": "code",
      "source": [
        "print(X_train.shape)\n",
        "print(X_test.shape)\n",
        "print(y_train.shape)\n",
        "print(y_test.shape)"
      ],
      "metadata": {
        "id": "Nu-sXHeZ15iP",
        "outputId": "e552fdec-dd65-4263-d51a-3959e0437c71",
        "colab": {
          "base_uri": "https://localhost:8080/"
        }
      },
      "execution_count": 28,
      "outputs": [
        {
          "output_type": "stream",
          "name": "stdout",
          "text": [
            "(80, 5)\n",
            "(20, 5)\n",
            "(80,)\n",
            "(20,)\n"
          ]
        }
      ]
    },
    {
      "cell_type": "code",
      "execution_count": 29,
      "metadata": {
        "id": "SOlAdXODx6i5"
      },
      "outputs": [],
      "source": [
        "X_test_wc = sm.add_constant(X_test)\n",
        "X_train_wc = sm.add_constant(X_train)"
      ]
    },
    {
      "cell_type": "code",
      "execution_count": 30,
      "metadata": {
        "id": "fvNqTfHox6i5",
        "outputId": "a8068c1b-ba29-4e8f-c86e-2a7a73f00d66",
        "colab": {
          "base_uri": "https://localhost:8080/",
          "height": 515
        }
      },
      "outputs": [
        {
          "output_type": "execute_result",
          "data": {
            "text/html": [
              "<table class=\"simpletable\">\n",
              "<caption>OLS Regression Results</caption>\n",
              "<tr>\n",
              "  <th>Dep. Variable:</th>            <td>y</td>        <th>  R-squared:         </th> <td>   0.451</td>\n",
              "</tr>\n",
              "<tr>\n",
              "  <th>Model:</th>                   <td>OLS</td>       <th>  Adj. R-squared:    </th> <td>   0.414</td>\n",
              "</tr>\n",
              "<tr>\n",
              "  <th>Method:</th>             <td>Least Squares</td>  <th>  F-statistic:       </th> <td>   12.17</td>\n",
              "</tr>\n",
              "<tr>\n",
              "  <th>Date:</th>             <td>Mon, 10 Jan 2022</td> <th>  Prob (F-statistic):</th> <td>1.28e-08</td>\n",
              "</tr>\n",
              "<tr>\n",
              "  <th>Time:</th>                 <td>07:18:18</td>     <th>  Log-Likelihood:    </th> <td> -65.981</td>\n",
              "</tr>\n",
              "<tr>\n",
              "  <th>No. Observations:</th>      <td>    80</td>      <th>  AIC:               </th> <td>   144.0</td>\n",
              "</tr>\n",
              "<tr>\n",
              "  <th>Df Residuals:</th>          <td>    74</td>      <th>  BIC:               </th> <td>   158.3</td>\n",
              "</tr>\n",
              "<tr>\n",
              "  <th>Df Model:</th>              <td>     5</td>      <th>                     </th>     <td> </td>   \n",
              "</tr>\n",
              "<tr>\n",
              "  <th>Covariance Type:</th>      <td>nonrobust</td>    <th>                     </th>     <td> </td>   \n",
              "</tr>\n",
              "</table>\n",
              "<table class=\"simpletable\">\n",
              "<tr>\n",
              "    <td></td>       <th>coef</th>     <th>std err</th>      <th>t</th>      <th>P>|t|</th>  <th>[0.025</th>    <th>0.975]</th>  \n",
              "</tr>\n",
              "<tr>\n",
              "  <th>const</th> <td>    0.0870</td> <td>    0.173</td> <td>    0.504</td> <td> 0.616</td> <td>   -0.257</td> <td>    0.431</td>\n",
              "</tr>\n",
              "<tr>\n",
              "  <th>X1</th>    <td>    0.5370</td> <td>    0.199</td> <td>    2.705</td> <td> 0.008</td> <td>    0.141</td> <td>    0.933</td>\n",
              "</tr>\n",
              "<tr>\n",
              "  <th>X2</th>    <td>    0.1037</td> <td>    0.302</td> <td>    0.343</td> <td> 0.732</td> <td>   -0.498</td> <td>    0.705</td>\n",
              "</tr>\n",
              "<tr>\n",
              "  <th>X3</th>    <td>   -2.1339</td> <td>    0.839</td> <td>   -2.543</td> <td> 0.013</td> <td>   -3.806</td> <td>   -0.462</td>\n",
              "</tr>\n",
              "<tr>\n",
              "  <th>X4</th>    <td>    0.2535</td> <td>    0.861</td> <td>    0.294</td> <td> 0.769</td> <td>   -1.463</td> <td>    1.970</td>\n",
              "</tr>\n",
              "<tr>\n",
              "  <th>X5</th>    <td>    1.5933</td> <td>    1.669</td> <td>    0.954</td> <td> 0.343</td> <td>   -1.733</td> <td>    4.920</td>\n",
              "</tr>\n",
              "</table>\n",
              "<table class=\"simpletable\">\n",
              "<tr>\n",
              "  <th>Omnibus:</th>       <td>11.757</td> <th>  Durbin-Watson:     </th> <td>   2.213</td>\n",
              "</tr>\n",
              "<tr>\n",
              "  <th>Prob(Omnibus):</th> <td> 0.003</td> <th>  Jarque-Bera (JB):  </th> <td>  14.171</td>\n",
              "</tr>\n",
              "<tr>\n",
              "  <th>Skew:</th>          <td>-0.701</td> <th>  Prob(JB):          </th> <td>0.000837</td>\n",
              "</tr>\n",
              "<tr>\n",
              "  <th>Kurtosis:</th>      <td> 4.512</td> <th>  Cond. No.          </th> <td>    33.9</td>\n",
              "</tr>\n",
              "</table><br/><br/>Warnings:<br/>[1] Standard Errors assume that the covariance matrix of the errors is correctly specified."
            ],
            "text/plain": [
              "<class 'statsmodels.iolib.summary.Summary'>\n",
              "\"\"\"\n",
              "                            OLS Regression Results                            \n",
              "==============================================================================\n",
              "Dep. Variable:                      y   R-squared:                       0.451\n",
              "Model:                            OLS   Adj. R-squared:                  0.414\n",
              "Method:                 Least Squares   F-statistic:                     12.17\n",
              "Date:                Mon, 10 Jan 2022   Prob (F-statistic):           1.28e-08\n",
              "Time:                        07:18:18   Log-Likelihood:                -65.981\n",
              "No. Observations:                  80   AIC:                             144.0\n",
              "Df Residuals:                      74   BIC:                             158.3\n",
              "Df Model:                           5                                         \n",
              "Covariance Type:            nonrobust                                         \n",
              "==============================================================================\n",
              "                 coef    std err          t      P>|t|      [0.025      0.975]\n",
              "------------------------------------------------------------------------------\n",
              "const          0.0870      0.173      0.504      0.616      -0.257       0.431\n",
              "X1             0.5370      0.199      2.705      0.008       0.141       0.933\n",
              "X2             0.1037      0.302      0.343      0.732      -0.498       0.705\n",
              "X3            -2.1339      0.839     -2.543      0.013      -3.806      -0.462\n",
              "X4             0.2535      0.861      0.294      0.769      -1.463       1.970\n",
              "X5             1.5933      1.669      0.954      0.343      -1.733       4.920\n",
              "==============================================================================\n",
              "Omnibus:                       11.757   Durbin-Watson:                   2.213\n",
              "Prob(Omnibus):                  0.003   Jarque-Bera (JB):               14.171\n",
              "Skew:                          -0.701   Prob(JB):                     0.000837\n",
              "Kurtosis:                       4.512   Cond. No.                         33.9\n",
              "==============================================================================\n",
              "\n",
              "Warnings:\n",
              "[1] Standard Errors assume that the covariance matrix of the errors is correctly specified.\n",
              "\"\"\""
            ]
          },
          "metadata": {},
          "execution_count": 30
        }
      ],
      "source": [
        "model = sm.OLS(y_train, X_train_wc).fit()  #linear regression을 돌려줌. 통계적인 값을 보여줌\n",
        "model.summary()"
      ]
    },
    {
      "cell_type": "markdown",
      "metadata": {
        "id": "YHF-RENGx6i5"
      },
      "source": [
        "# A) Training the models"
      ]
    },
    {
      "cell_type": "markdown",
      "metadata": {
        "id": "I7KlpSRKx6i5"
      },
      "source": [
        "In this section we will train 4 different models:\n",
        "\n",
        "1. Linear regression (model_linear)\n",
        "2. Ridge regression (model_ridge)\n",
        "3. Lasso regression (model_lasso)\n",
        "4. Elastic Net regression (model_net)"
      ]
    },
    {
      "cell_type": "code",
      "execution_count": 32,
      "metadata": {
        "id": "ktYDgHZfx6i6"
      },
      "outputs": [],
      "source": [
        "from sklearn.linear_model import LinearRegression, Ridge, RidgeCV, Lasso, LassoCV, ElasticNet, ElasticNetCV #자체적인 CV모델을 제공한다."
      ]
    },
    {
      "cell_type": "code",
      "execution_count": 33,
      "metadata": {
        "id": "vC8QKmHQx6i6"
      },
      "outputs": [],
      "source": [
        "model_linear = LinearRegression()\n",
        "model_ridge = Ridge(alpha=0)  #alpha : lambda\n",
        "model_lasso = Lasso(alpha=0)\n",
        "model_net = ElasticNet(alpha=0)"
      ]
    },
    {
      "cell_type": "code",
      "execution_count": 34,
      "metadata": {
        "id": "APstb9Qcx6i6"
      },
      "outputs": [],
      "source": [
        "y_hat_linear= model_linear.fit(X_train, y_train).predict(X_test)\n",
        "y_hat_ridge = model_ridge.fit(X_train, y_train).predict(X_test)\n",
        "y_hat_lasso = model_lasso.fit(X_train, y_train).predict(X_test)\n",
        "y_hat_net   = model_net.fit(X_train, y_train).predict(X_test)"
      ]
    },
    {
      "cell_type": "code",
      "execution_count": 35,
      "metadata": {
        "id": "P1YDbgFNx6i6",
        "outputId": "876a1561-63fd-4f68-9cea-2d690ca7c5da",
        "colab": {
          "base_uri": "https://localhost:8080/",
          "height": 206
        }
      },
      "outputs": [
        {
          "output_type": "execute_result",
          "data": {
            "text/html": [
              "\n",
              "  <div id=\"df-02111666-20d1-4049-b851-285233453b24\">\n",
              "    <div class=\"colab-df-container\">\n",
              "      <div>\n",
              "<style scoped>\n",
              "    .dataframe tbody tr th:only-of-type {\n",
              "        vertical-align: middle;\n",
              "    }\n",
              "\n",
              "    .dataframe tbody tr th {\n",
              "        vertical-align: top;\n",
              "    }\n",
              "\n",
              "    .dataframe thead th {\n",
              "        text-align: right;\n",
              "    }\n",
              "</style>\n",
              "<table border=\"1\" class=\"dataframe\">\n",
              "  <thead>\n",
              "    <tr style=\"text-align: right;\">\n",
              "      <th></th>\n",
              "      <th>y_test</th>\n",
              "      <th>y_hat_linear</th>\n",
              "      <th>y_hat_ridge</th>\n",
              "      <th>y_hat_lasso</th>\n",
              "      <th>y_hat_net</th>\n",
              "    </tr>\n",
              "  </thead>\n",
              "  <tbody>\n",
              "    <tr>\n",
              "      <th>88</th>\n",
              "      <td>1.307243</td>\n",
              "      <td>0.171067</td>\n",
              "      <td>0.171067</td>\n",
              "      <td>0.171067</td>\n",
              "      <td>0.171067</td>\n",
              "    </tr>\n",
              "    <tr>\n",
              "      <th>4</th>\n",
              "      <td>-0.404102</td>\n",
              "      <td>-0.079686</td>\n",
              "      <td>-0.079686</td>\n",
              "      <td>-0.079686</td>\n",
              "      <td>-0.079686</td>\n",
              "    </tr>\n",
              "    <tr>\n",
              "      <th>62</th>\n",
              "      <td>-1.055680</td>\n",
              "      <td>-0.180921</td>\n",
              "      <td>-0.180921</td>\n",
              "      <td>-0.180921</td>\n",
              "      <td>-0.180921</td>\n",
              "    </tr>\n",
              "    <tr>\n",
              "      <th>63</th>\n",
              "      <td>2.538916</td>\n",
              "      <td>2.344482</td>\n",
              "      <td>2.344482</td>\n",
              "      <td>2.344482</td>\n",
              "      <td>2.344482</td>\n",
              "    </tr>\n",
              "    <tr>\n",
              "      <th>48</th>\n",
              "      <td>1.144605</td>\n",
              "      <td>-0.078630</td>\n",
              "      <td>-0.078630</td>\n",
              "      <td>-0.078630</td>\n",
              "      <td>-0.078630</td>\n",
              "    </tr>\n",
              "  </tbody>\n",
              "</table>\n",
              "</div>\n",
              "      <button class=\"colab-df-convert\" onclick=\"convertToInteractive('df-02111666-20d1-4049-b851-285233453b24')\"\n",
              "              title=\"Convert this dataframe to an interactive table.\"\n",
              "              style=\"display:none;\">\n",
              "        \n",
              "  <svg xmlns=\"http://www.w3.org/2000/svg\" height=\"24px\"viewBox=\"0 0 24 24\"\n",
              "       width=\"24px\">\n",
              "    <path d=\"M0 0h24v24H0V0z\" fill=\"none\"/>\n",
              "    <path d=\"M18.56 5.44l.94 2.06.94-2.06 2.06-.94-2.06-.94-.94-2.06-.94 2.06-2.06.94zm-11 1L8.5 8.5l.94-2.06 2.06-.94-2.06-.94L8.5 2.5l-.94 2.06-2.06.94zm10 10l.94 2.06.94-2.06 2.06-.94-2.06-.94-.94-2.06-.94 2.06-2.06.94z\"/><path d=\"M17.41 7.96l-1.37-1.37c-.4-.4-.92-.59-1.43-.59-.52 0-1.04.2-1.43.59L10.3 9.45l-7.72 7.72c-.78.78-.78 2.05 0 2.83L4 21.41c.39.39.9.59 1.41.59.51 0 1.02-.2 1.41-.59l7.78-7.78 2.81-2.81c.8-.78.8-2.07 0-2.86zM5.41 20L4 18.59l7.72-7.72 1.47 1.35L5.41 20z\"/>\n",
              "  </svg>\n",
              "      </button>\n",
              "      \n",
              "  <style>\n",
              "    .colab-df-container {\n",
              "      display:flex;\n",
              "      flex-wrap:wrap;\n",
              "      gap: 12px;\n",
              "    }\n",
              "\n",
              "    .colab-df-convert {\n",
              "      background-color: #E8F0FE;\n",
              "      border: none;\n",
              "      border-radius: 50%;\n",
              "      cursor: pointer;\n",
              "      display: none;\n",
              "      fill: #1967D2;\n",
              "      height: 32px;\n",
              "      padding: 0 0 0 0;\n",
              "      width: 32px;\n",
              "    }\n",
              "\n",
              "    .colab-df-convert:hover {\n",
              "      background-color: #E2EBFA;\n",
              "      box-shadow: 0px 1px 2px rgba(60, 64, 67, 0.3), 0px 1px 3px 1px rgba(60, 64, 67, 0.15);\n",
              "      fill: #174EA6;\n",
              "    }\n",
              "\n",
              "    [theme=dark] .colab-df-convert {\n",
              "      background-color: #3B4455;\n",
              "      fill: #D2E3FC;\n",
              "    }\n",
              "\n",
              "    [theme=dark] .colab-df-convert:hover {\n",
              "      background-color: #434B5C;\n",
              "      box-shadow: 0px 1px 3px 1px rgba(0, 0, 0, 0.15);\n",
              "      filter: drop-shadow(0px 1px 2px rgba(0, 0, 0, 0.3));\n",
              "      fill: #FFFFFF;\n",
              "    }\n",
              "  </style>\n",
              "\n",
              "      <script>\n",
              "        const buttonEl =\n",
              "          document.querySelector('#df-02111666-20d1-4049-b851-285233453b24 button.colab-df-convert');\n",
              "        buttonEl.style.display =\n",
              "          google.colab.kernel.accessAllowed ? 'block' : 'none';\n",
              "\n",
              "        async function convertToInteractive(key) {\n",
              "          const element = document.querySelector('#df-02111666-20d1-4049-b851-285233453b24');\n",
              "          const dataTable =\n",
              "            await google.colab.kernel.invokeFunction('convertToInteractive',\n",
              "                                                     [key], {});\n",
              "          if (!dataTable) return;\n",
              "\n",
              "          const docLinkHtml = 'Like what you see? Visit the ' +\n",
              "            '<a target=\"_blank\" href=https://colab.research.google.com/notebooks/data_table.ipynb>data table notebook</a>'\n",
              "            + ' to learn more about interactive tables.';\n",
              "          element.innerHTML = '';\n",
              "          dataTable['output_type'] = 'display_data';\n",
              "          await google.colab.output.renderOutput(dataTable, element);\n",
              "          const docLink = document.createElement('div');\n",
              "          docLink.innerHTML = docLinkHtml;\n",
              "          element.appendChild(docLink);\n",
              "        }\n",
              "      </script>\n",
              "    </div>\n",
              "  </div>\n",
              "  "
            ],
            "text/plain": [
              "      y_test  y_hat_linear  y_hat_ridge  y_hat_lasso  y_hat_net\n",
              "88  1.307243      0.171067     0.171067     0.171067   0.171067\n",
              "4  -0.404102     -0.079686    -0.079686    -0.079686  -0.079686\n",
              "62 -1.055680     -0.180921    -0.180921    -0.180921  -0.180921\n",
              "63  2.538916      2.344482     2.344482     2.344482   2.344482\n",
              "48  1.144605     -0.078630    -0.078630    -0.078630  -0.078630"
            ]
          },
          "metadata": {},
          "execution_count": 35
        }
      ],
      "source": [
        "df_predictions = pd.DataFrame({'y_test':y_test,\n",
        "                               'y_hat_linear':y_hat_linear,\n",
        "                               'y_hat_ridge':y_hat_ridge,\n",
        "                               'y_hat_lasso':y_hat_lasso,\n",
        "                               'y_hat_net':y_hat_net})\n",
        "df_predictions.head()"
      ]
    },
    {
      "cell_type": "markdown",
      "metadata": {
        "id": "DEIEx_Xex6i7"
      },
      "source": [
        "### coefficients"
      ]
    },
    {
      "cell_type": "code",
      "execution_count": 36,
      "metadata": {
        "id": "sOG06oc0x6i7",
        "outputId": "ebf41f9d-51bf-411e-fff8-d5ad9aa271a0",
        "colab": {
          "base_uri": "https://localhost:8080/"
        }
      },
      "outputs": [
        {
          "output_type": "execute_result",
          "data": {
            "text/plain": [
              "Index(['X1', 'X2', 'X3', 'X4', 'X5'], dtype='object')"
            ]
          },
          "metadata": {},
          "execution_count": 36
        }
      ],
      "source": [
        "df.drop('y', axis=1, inplace=False).columns"
      ]
    },
    {
      "cell_type": "code",
      "execution_count": 37,
      "metadata": {
        "id": "3g4MRI_gx6i7",
        "outputId": "deda9787-12bc-459d-9b04-9c70bc032bce",
        "colab": {
          "base_uri": "https://localhost:8080/",
          "height": 206
        }
      },
      "outputs": [
        {
          "output_type": "execute_result",
          "data": {
            "text/html": [
              "\n",
              "  <div id=\"df-aad1ad41-6140-4609-8cd6-5f613ef5227b\">\n",
              "    <div class=\"colab-df-container\">\n",
              "      <div>\n",
              "<style scoped>\n",
              "    .dataframe tbody tr th:only-of-type {\n",
              "        vertical-align: middle;\n",
              "    }\n",
              "\n",
              "    .dataframe tbody tr th {\n",
              "        vertical-align: top;\n",
              "    }\n",
              "\n",
              "    .dataframe thead th {\n",
              "        text-align: right;\n",
              "    }\n",
              "</style>\n",
              "<table border=\"1\" class=\"dataframe\">\n",
              "  <thead>\n",
              "    <tr style=\"text-align: right;\">\n",
              "      <th></th>\n",
              "      <th>Features</th>\n",
              "      <th>model_lin</th>\n",
              "      <th>model_ridge</th>\n",
              "      <th>model_lasso</th>\n",
              "      <th>model_net</th>\n",
              "    </tr>\n",
              "  </thead>\n",
              "  <tbody>\n",
              "    <tr>\n",
              "      <th>0</th>\n",
              "      <td>X1</td>\n",
              "      <td>0.537047</td>\n",
              "      <td>0.537047</td>\n",
              "      <td>0.537047</td>\n",
              "      <td>0.537047</td>\n",
              "    </tr>\n",
              "    <tr>\n",
              "      <th>1</th>\n",
              "      <td>X2</td>\n",
              "      <td>0.103655</td>\n",
              "      <td>0.103655</td>\n",
              "      <td>0.103655</td>\n",
              "      <td>0.103655</td>\n",
              "    </tr>\n",
              "    <tr>\n",
              "      <th>2</th>\n",
              "      <td>X3</td>\n",
              "      <td>-2.133872</td>\n",
              "      <td>-2.133872</td>\n",
              "      <td>-2.133872</td>\n",
              "      <td>-2.133872</td>\n",
              "    </tr>\n",
              "    <tr>\n",
              "      <th>3</th>\n",
              "      <td>X4</td>\n",
              "      <td>0.253492</td>\n",
              "      <td>0.253492</td>\n",
              "      <td>0.253492</td>\n",
              "      <td>0.253492</td>\n",
              "    </tr>\n",
              "    <tr>\n",
              "      <th>4</th>\n",
              "      <td>X5</td>\n",
              "      <td>1.593336</td>\n",
              "      <td>1.593336</td>\n",
              "      <td>1.593336</td>\n",
              "      <td>1.593336</td>\n",
              "    </tr>\n",
              "  </tbody>\n",
              "</table>\n",
              "</div>\n",
              "      <button class=\"colab-df-convert\" onclick=\"convertToInteractive('df-aad1ad41-6140-4609-8cd6-5f613ef5227b')\"\n",
              "              title=\"Convert this dataframe to an interactive table.\"\n",
              "              style=\"display:none;\">\n",
              "        \n",
              "  <svg xmlns=\"http://www.w3.org/2000/svg\" height=\"24px\"viewBox=\"0 0 24 24\"\n",
              "       width=\"24px\">\n",
              "    <path d=\"M0 0h24v24H0V0z\" fill=\"none\"/>\n",
              "    <path d=\"M18.56 5.44l.94 2.06.94-2.06 2.06-.94-2.06-.94-.94-2.06-.94 2.06-2.06.94zm-11 1L8.5 8.5l.94-2.06 2.06-.94-2.06-.94L8.5 2.5l-.94 2.06-2.06.94zm10 10l.94 2.06.94-2.06 2.06-.94-2.06-.94-.94-2.06-.94 2.06-2.06.94z\"/><path d=\"M17.41 7.96l-1.37-1.37c-.4-.4-.92-.59-1.43-.59-.52 0-1.04.2-1.43.59L10.3 9.45l-7.72 7.72c-.78.78-.78 2.05 0 2.83L4 21.41c.39.39.9.59 1.41.59.51 0 1.02-.2 1.41-.59l7.78-7.78 2.81-2.81c.8-.78.8-2.07 0-2.86zM5.41 20L4 18.59l7.72-7.72 1.47 1.35L5.41 20z\"/>\n",
              "  </svg>\n",
              "      </button>\n",
              "      \n",
              "  <style>\n",
              "    .colab-df-container {\n",
              "      display:flex;\n",
              "      flex-wrap:wrap;\n",
              "      gap: 12px;\n",
              "    }\n",
              "\n",
              "    .colab-df-convert {\n",
              "      background-color: #E8F0FE;\n",
              "      border: none;\n",
              "      border-radius: 50%;\n",
              "      cursor: pointer;\n",
              "      display: none;\n",
              "      fill: #1967D2;\n",
              "      height: 32px;\n",
              "      padding: 0 0 0 0;\n",
              "      width: 32px;\n",
              "    }\n",
              "\n",
              "    .colab-df-convert:hover {\n",
              "      background-color: #E2EBFA;\n",
              "      box-shadow: 0px 1px 2px rgba(60, 64, 67, 0.3), 0px 1px 3px 1px rgba(60, 64, 67, 0.15);\n",
              "      fill: #174EA6;\n",
              "    }\n",
              "\n",
              "    [theme=dark] .colab-df-convert {\n",
              "      background-color: #3B4455;\n",
              "      fill: #D2E3FC;\n",
              "    }\n",
              "\n",
              "    [theme=dark] .colab-df-convert:hover {\n",
              "      background-color: #434B5C;\n",
              "      box-shadow: 0px 1px 3px 1px rgba(0, 0, 0, 0.15);\n",
              "      filter: drop-shadow(0px 1px 2px rgba(0, 0, 0, 0.3));\n",
              "      fill: #FFFFFF;\n",
              "    }\n",
              "  </style>\n",
              "\n",
              "      <script>\n",
              "        const buttonEl =\n",
              "          document.querySelector('#df-aad1ad41-6140-4609-8cd6-5f613ef5227b button.colab-df-convert');\n",
              "        buttonEl.style.display =\n",
              "          google.colab.kernel.accessAllowed ? 'block' : 'none';\n",
              "\n",
              "        async function convertToInteractive(key) {\n",
              "          const element = document.querySelector('#df-aad1ad41-6140-4609-8cd6-5f613ef5227b');\n",
              "          const dataTable =\n",
              "            await google.colab.kernel.invokeFunction('convertToInteractive',\n",
              "                                                     [key], {});\n",
              "          if (!dataTable) return;\n",
              "\n",
              "          const docLinkHtml = 'Like what you see? Visit the ' +\n",
              "            '<a target=\"_blank\" href=https://colab.research.google.com/notebooks/data_table.ipynb>data table notebook</a>'\n",
              "            + ' to learn more about interactive tables.';\n",
              "          element.innerHTML = '';\n",
              "          dataTable['output_type'] = 'display_data';\n",
              "          await google.colab.output.renderOutput(dataTable, element);\n",
              "          const docLink = document.createElement('div');\n",
              "          docLink.innerHTML = docLinkHtml;\n",
              "          element.appendChild(docLink);\n",
              "        }\n",
              "      </script>\n",
              "    </div>\n",
              "  </div>\n",
              "  "
            ],
            "text/plain": [
              "  Features  model_lin  model_ridge  model_lasso  model_net\n",
              "0       X1   0.537047     0.537047     0.537047   0.537047\n",
              "1       X2   0.103655     0.103655     0.103655   0.103655\n",
              "2       X3  -2.133872    -2.133872    -2.133872  -2.133872\n",
              "3       X4   0.253492     0.253492     0.253492   0.253492\n",
              "4       X5   1.593336     1.593336     1.593336   1.593336"
            ]
          },
          "metadata": {},
          "execution_count": 37
        }
      ],
      "source": [
        "coefficients = pd.DataFrame({'Features':df.drop('y', axis=1, inplace=False).columns})\n",
        "coefficients['model_lin']= model_linear.coef_\n",
        "coefficients['model_ridge']= model_ridge.coef_\n",
        "coefficients['model_lasso']= model_lasso.coef_\n",
        "coefficients['model_net']= model_net.coef_\n",
        "coefficients"
      ]
    },
    {
      "cell_type": "markdown",
      "metadata": {
        "id": "0CKO4J-Tx6i8"
      },
      "source": [
        "### Performance in the test set¶\n"
      ]
    },
    {
      "cell_type": "code",
      "execution_count": 38,
      "metadata": {
        "id": "QS3lIRmtx6i8",
        "outputId": "f55794fd-42ff-4364-9bf6-e86af2cb7e4a",
        "colab": {
          "base_uri": "https://localhost:8080/"
        }
      },
      "outputs": [
        {
          "output_type": "execute_result",
          "data": {
            "text/plain": [
              "2.037"
            ]
          },
          "metadata": {},
          "execution_count": 38
        }
      ],
      "source": [
        "MSE_test = np.mean(np.square(df_predictions['y_test'] - df_predictions['y_hat_linear']))\n",
        "RMSE_test = np.sqrt(MSE_test)\n",
        "np.round(RMSE_test,3)"
      ]
    },
    {
      "cell_type": "code",
      "execution_count": 39,
      "metadata": {
        "id": "bV1e8Lm5x6i8",
        "outputId": "0fbc63f4-c264-4dc4-afed-9c93d9e37805",
        "colab": {
          "base_uri": "https://localhost:8080/"
        }
      },
      "outputs": [
        {
          "output_type": "execute_result",
          "data": {
            "text/plain": [
              "2.037"
            ]
          },
          "metadata": {},
          "execution_count": 39
        }
      ],
      "source": [
        "MSE_test = np.mean(np.square(df_predictions['y_test'] - df_predictions['y_hat_ridge']))\n",
        "RMSE_test = np.sqrt(MSE_test)\n",
        "np.round(RMSE_test,3)"
      ]
    },
    {
      "cell_type": "code",
      "execution_count": 40,
      "metadata": {
        "id": "qAH7VvR7x6i8",
        "outputId": "2c3be376-6a0a-4055-8f16-18fed8e4156f",
        "colab": {
          "base_uri": "https://localhost:8080/"
        }
      },
      "outputs": [
        {
          "output_type": "execute_result",
          "data": {
            "text/plain": [
              "2.037"
            ]
          },
          "metadata": {},
          "execution_count": 40
        }
      ],
      "source": [
        "MSE_test = np.mean(np.square(df_predictions['y_test'] - df_predictions['y_hat_lasso']))\n",
        "RMSE_test = np.sqrt(MSE_test)\n",
        "np.round(RMSE_test,3)"
      ]
    },
    {
      "cell_type": "code",
      "execution_count": 41,
      "metadata": {
        "id": "d_w072OFx6i8",
        "outputId": "a5e97bfe-7d5a-4a08-902d-c14d30b9fccb",
        "colab": {
          "base_uri": "https://localhost:8080/"
        }
      },
      "outputs": [
        {
          "output_type": "execute_result",
          "data": {
            "text/plain": [
              "2.037"
            ]
          },
          "metadata": {},
          "execution_count": 41
        }
      ],
      "source": [
        "MSE_test = np.mean(np.square(df_predictions['y_test'] - df_predictions['y_hat_net']))\n",
        "RMSE_test = np.sqrt(MSE_test)\n",
        "np.round(RMSE_test,3)"
      ]
    },
    {
      "cell_type": "markdown",
      "metadata": {
        "id": "0_J9ceJQx6i8"
      },
      "source": [
        "### Plotting the regression coefficients vs alphas:"
      ]
    },
    {
      "cell_type": "markdown",
      "metadata": {
        "id": "W5PtXT1rx6i8"
      },
      "source": [
        "#### 1) Ridge regression coefficients vs alpha\n"
      ]
    },
    {
      "cell_type": "code",
      "source": [
        "np.linspace(-2, 4, 100) # -2와 4까지를 100개로 쪼개라 "
      ],
      "metadata": {
        "id": "qtxU9WrP3FOR",
        "outputId": "09462fc9-9e45-40f5-d86d-272fbca88a7b",
        "colab": {
          "base_uri": "https://localhost:8080/"
        }
      },
      "execution_count": 42,
      "outputs": [
        {
          "output_type": "execute_result",
          "data": {
            "text/plain": [
              "array([-2.        , -1.93939394, -1.87878788, -1.81818182, -1.75757576,\n",
              "       -1.6969697 , -1.63636364, -1.57575758, -1.51515152, -1.45454545,\n",
              "       -1.39393939, -1.33333333, -1.27272727, -1.21212121, -1.15151515,\n",
              "       -1.09090909, -1.03030303, -0.96969697, -0.90909091, -0.84848485,\n",
              "       -0.78787879, -0.72727273, -0.66666667, -0.60606061, -0.54545455,\n",
              "       -0.48484848, -0.42424242, -0.36363636, -0.3030303 , -0.24242424,\n",
              "       -0.18181818, -0.12121212, -0.06060606,  0.        ,  0.06060606,\n",
              "        0.12121212,  0.18181818,  0.24242424,  0.3030303 ,  0.36363636,\n",
              "        0.42424242,  0.48484848,  0.54545455,  0.60606061,  0.66666667,\n",
              "        0.72727273,  0.78787879,  0.84848485,  0.90909091,  0.96969697,\n",
              "        1.03030303,  1.09090909,  1.15151515,  1.21212121,  1.27272727,\n",
              "        1.33333333,  1.39393939,  1.45454545,  1.51515152,  1.57575758,\n",
              "        1.63636364,  1.6969697 ,  1.75757576,  1.81818182,  1.87878788,\n",
              "        1.93939394,  2.        ,  2.06060606,  2.12121212,  2.18181818,\n",
              "        2.24242424,  2.3030303 ,  2.36363636,  2.42424242,  2.48484848,\n",
              "        2.54545455,  2.60606061,  2.66666667,  2.72727273,  2.78787879,\n",
              "        2.84848485,  2.90909091,  2.96969697,  3.03030303,  3.09090909,\n",
              "        3.15151515,  3.21212121,  3.27272727,  3.33333333,  3.39393939,\n",
              "        3.45454545,  3.51515152,  3.57575758,  3.63636364,  3.6969697 ,\n",
              "        3.75757576,  3.81818182,  3.87878788,  3.93939394,  4.        ])"
            ]
          },
          "metadata": {},
          "execution_count": 42
        }
      ]
    },
    {
      "cell_type": "code",
      "execution_count": 43,
      "metadata": {
        "id": "euL88nsux6i8",
        "outputId": "8ae019d1-d8a1-4f13-dfdc-0077ff9607cb",
        "colab": {
          "base_uri": "https://localhost:8080/",
          "height": 338
        }
      },
      "outputs": [
        {
          "output_type": "display_data",
          "data": {
            "image/png": "[encoded data removed]",
            "text/plain": [
              "<Figure size 864x360 with 1 Axes>"
            ]
          },
          "metadata": {}
        }
      ],
      "source": [
        "alpha_ridge = 10**np.linspace(-2,4,100)\n",
        "plt.figure(figsize=(12,5))\n",
        "plt.plot(alpha_ridge,'or' )\n",
        "plt.xlabel('steps')\n",
        "plt.ylabel('alpha (lambda)')\n",
        "plt.show()"
      ]
    },
    {
      "cell_type": "code",
      "execution_count": 44,
      "metadata": {
        "id": "W9NQDkUBx6i8",
        "outputId": "92d344de-0ced-4544-cc4a-e1ab09c4b63c",
        "colab": {
          "base_uri": "https://localhost:8080/"
        }
      },
      "outputs": [
        {
          "output_type": "execute_result",
          "data": {
            "text/plain": [
              "(100, 5)"
            ]
          },
          "metadata": {},
          "execution_count": 44
        }
      ],
      "source": [
        "ridge = Ridge()\n",
        "coefs_ridge = []\n",
        "\n",
        "for i in alpha_ridge:\n",
        "    ridge.set_params(alpha = i)\n",
        "    ridge.fit(X_train, y_train) # fitting 시키고, \n",
        "    coefs_ridge.append(ridge.coef_) # 결과를 coefs_ridge에 저장.\n",
        "    \n",
        "np.shape(coefs_ridge)"
      ]
    },
    {
      "cell_type": "code",
      "execution_count": 45,
      "metadata": {
        "id": "lFePMbiTx6i9",
        "outputId": "6dc53b74-d45c-490c-d863-38a79726c6fe",
        "colab": {
          "base_uri": "https://localhost:8080/",
          "height": 634
        }
      },
      "outputs": [
        {
          "output_type": "display_data",
          "data": {
            "image/png": "[encoded data removed]",
            "text/plain": [
              "<Figure size 864x720 with 1 Axes>"
            ]
          },
          "metadata": {}
        }
      ],
      "source": [
        "# alpha가 점점 커질때 0으로 수렴\n",
        "plt.figure(figsize=(12,10))\n",
        "ax = plt.gca()\n",
        "ax.plot(alpha_ridge, coefs_ridge) #ridge\n",
        "ax.set_xscale('log')\n",
        "plt.axis('tight')\n",
        "plt.xlabel('alpha')\n",
        "plt.ylabel('weights: scaled coefficients')\n",
        "plt.title('Ridge regression coefficients Vs. alpha')\n",
        "plt.legend(df.drop('y',axis=1, inplace=False).columns)\n",
        "\n",
        "plt.show()"
      ]
    },
    {
      "cell_type": "markdown",
      "metadata": {
        "id": "3orviGyLx6i9"
      },
      "source": [
        "#### 2) Lasso regression coefficients vs alpha\n"
      ]
    },
    {
      "cell_type": "code",
      "execution_count": 47,
      "metadata": {
        "id": "TP95QrcQx6i9"
      },
      "outputs": [],
      "source": [
        "alpha_lasso = 10**np.linspace(-3,1,100)"
      ]
    },
    {
      "cell_type": "code",
      "execution_count": 48,
      "metadata": {
        "id": "y8c4SR47x6i9",
        "outputId": "876e26a8-7941-4734-96ee-345ef024cf13",
        "colab": {
          "base_uri": "https://localhost:8080/"
        }
      },
      "outputs": [
        {
          "output_type": "execute_result",
          "data": {
            "text/plain": [
              "(100, 5)"
            ]
          },
          "metadata": {},
          "execution_count": 48
        }
      ],
      "source": [
        "lasso = Lasso()\n",
        "coefs_lasso = []\n",
        "\n",
        "for i in alpha_lasso:\n",
        "    lasso.set_params(alpha = i)\n",
        "    lasso.fit(X_train, y_train)\n",
        "    coefs_lasso.append(lasso.coef_)\n",
        "    \n",
        "np.shape(coefs_lasso)"
      ]
    },
    {
      "cell_type": "code",
      "execution_count": 49,
      "metadata": {
        "id": "rg5_bgzBx6i9",
        "outputId": "aebdcfcd-0086-4c05-a663-0c78b9804936",
        "colab": {
          "base_uri": "https://localhost:8080/",
          "height": 634
        }
      },
      "outputs": [
        {
          "output_type": "display_data",
          "data": {
            "image/png": "[encoded data removed]",
            "text/plain": [
              "<Figure size 864x720 with 1 Axes>"
            ]
          },
          "metadata": {}
        }
      ],
      "source": [
        "plt.figure(figsize=(12,10))\n",
        "ax = plt.gca()\n",
        "ax.plot(alpha_lasso, coefs_lasso)\n",
        "ax.set_xscale('log')\n",
        "plt.axis('tight')\n",
        "plt.xlabel('alpha')\n",
        "plt.ylabel('weights: scaled coefficients')\n",
        "plt.title('Lasso regression coefficients Vs. alpha')\n",
        "plt.legend(df.drop('y',axis=1, inplace=False).columns)\n",
        "\n",
        "plt.show()"
      ]
    },
    {
      "cell_type": "markdown",
      "metadata": {
        "id": "z-OvVtZUx6i9"
      },
      "source": [
        "#### 3) ElasticNet regression coefficients vs alpha\n"
      ]
    },
    {
      "cell_type": "code",
      "execution_count": 50,
      "metadata": {
        "id": "qA7_emuSx6i9"
      },
      "outputs": [],
      "source": [
        "alpha_elasticnet = 10**np.linspace(-3,2,100)"
      ]
    },
    {
      "cell_type": "code",
      "execution_count": 51,
      "metadata": {
        "id": "FIic0X7_x6i9",
        "outputId": "9cc9b3a4-6dd0-436a-eac7-618c8d9c470f",
        "colab": {
          "base_uri": "https://localhost:8080/"
        }
      },
      "outputs": [
        {
          "output_type": "execute_result",
          "data": {
            "text/plain": [
              "(100, 5)"
            ]
          },
          "metadata": {},
          "execution_count": 51
        }
      ],
      "source": [
        "elasticnet = ElasticNet()\n",
        "coefs_elasticnet = []\n",
        "\n",
        "for i in alpha_elasticnet:\n",
        "    elasticnet.set_params(alpha = i)\n",
        "    elasticnet.fit(X_train, y_train)\n",
        "    coefs_elasticnet.append(elasticnet.coef_)\n",
        "    \n",
        "np.shape(coefs_elasticnet)"
      ]
    },
    {
      "cell_type": "code",
      "execution_count": 52,
      "metadata": {
        "id": "NZEQdvhDx6i-",
        "outputId": "2677310a-bed6-4719-d28b-81b245bbf497",
        "colab": {
          "base_uri": "https://localhost:8080/",
          "height": 634
        }
      },
      "outputs": [
        {
          "output_type": "display_data",
          "data": {
            "image/png": "[encoded data removed]",
            "text/plain": [
              "<Figure size 864x720 with 1 Axes>"
            ]
          },
          "metadata": {}
        }
      ],
      "source": [
        "plt.figure(figsize=(12,10))\n",
        "ax = plt.gca()\n",
        "ax.plot(alpha_elasticnet, coefs_elasticnet)\n",
        "ax.set_xscale('log')\n",
        "plt.axis('tight')\n",
        "plt.xlabel('alpha')\n",
        "plt.ylabel('weights: scaled coefficients')\n",
        "plt.title('Elastic Net regression coefficients Vs. alpha')\n",
        "plt.legend(df.drop('y',axis=1, inplace=False).columns)\n",
        "\n",
        "plt.show()"
      ]
    },
    {
      "cell_type": "markdown",
      "metadata": {
        "id": "ItJKbMjXx6i-"
      },
      "source": [
        "## Cross Validation\n",
        "Let's use cross validation to find the optimal Lambdas (alphas) for different models."
      ]
    },
    {
      "cell_type": "markdown",
      "metadata": {
        "id": "Kr0DGPKnx6i-"
      },
      "source": [
        "#### 1) Optimal alpha for Ridge regression"
      ]
    },
    {
      "cell_type": "code",
      "execution_count": 53,
      "metadata": {
        "id": "-TWzG_xwx6i-",
        "outputId": "74bb2193-a019-4a17-92b8-cc801d1ce120",
        "colab": {
          "base_uri": "https://localhost:8080/"
        }
      },
      "outputs": [
        {
          "output_type": "execute_result",
          "data": {
            "text/plain": [
              "1.0"
            ]
          },
          "metadata": {},
          "execution_count": 53
        }
      ],
      "source": [
        "ridgecv = RidgeCV()\n",
        "ridgecv.fit(X_train, y_train)\n",
        "ridgecv.alpha_"
      ]
    },
    {
      "cell_type": "code",
      "execution_count": 54,
      "metadata": {
        "id": "TPTl6fK3x6i-"
      },
      "outputs": [],
      "source": [
        "alpha_ridge_opt = ridgecv.alpha_"
      ]
    },
    {
      "cell_type": "markdown",
      "metadata": {
        "id": "oH2VMjOVx6i-"
      },
      "source": [
        "--------"
      ]
    },
    {
      "cell_type": "markdown",
      "metadata": {
        "id": "Gwym51tzx6i-"
      },
      "source": [
        "#### 2) Optimal alpha for Lasso regression"
      ]
    },
    {
      "cell_type": "code",
      "execution_count": 55,
      "metadata": {
        "id": "MWSJDMUhx6i-",
        "outputId": "46ea6791-3ea5-4b60-b446-0dc2e2a325b7",
        "colab": {
          "base_uri": "https://localhost:8080/"
        }
      },
      "outputs": [
        {
          "output_type": "execute_result",
          "data": {
            "text/plain": [
              "0.004564470133023309"
            ]
          },
          "metadata": {},
          "execution_count": 55
        }
      ],
      "source": [
        "lassocv = LassoCV()\n",
        "lassocv.fit(X_train, y_train)\n",
        "lassocv.alpha_  #최적의 alpha값까지 최적의 Optimal 값을 찾아줌 "
      ]
    },
    {
      "cell_type": "code",
      "execution_count": 56,
      "metadata": {
        "id": "XqfeMuHVx6i_"
      },
      "outputs": [],
      "source": [
        "alpha_lasso_opt = lassocv.alpha_"
      ]
    },
    {
      "cell_type": "markdown",
      "metadata": {
        "id": "2i1M8J81x6i_"
      },
      "source": [
        "-----------------"
      ]
    },
    {
      "cell_type": "markdown",
      "metadata": {
        "id": "IbQWZylOx6i_"
      },
      "source": [
        "#### 3) Optimal alpha for Elastic Net regression"
      ]
    },
    {
      "cell_type": "code",
      "execution_count": 57,
      "metadata": {
        "id": "fZMO5F0hx6i_",
        "outputId": "19465fea-89ae-43ae-e7db-4ad648b44168",
        "colab": {
          "base_uri": "https://localhost:8080/"
        }
      },
      "outputs": [
        {
          "output_type": "execute_result",
          "data": {
            "text/plain": [
              "0.006440286888331817"
            ]
          },
          "metadata": {},
          "execution_count": 57
        }
      ],
      "source": [
        "elasticnetcv = ElasticNetCV()\n",
        "elasticnetcv.fit(X_train, y_train)\n",
        "elasticnetcv.alpha_"
      ]
    },
    {
      "cell_type": "code",
      "execution_count": 58,
      "metadata": {
        "id": "PO8b-17kx6i_",
        "outputId": "55bc09a0-6a1b-49ab-a729-225f90efad4e",
        "colab": {
          "base_uri": "https://localhost:8080/"
        }
      },
      "outputs": [
        {
          "output_type": "execute_result",
          "data": {
            "text/plain": [
              "0.5"
            ]
          },
          "metadata": {},
          "execution_count": 58
        }
      ],
      "source": [
        "elasticnetcv.l1_ratio_"
      ]
    },
    {
      "cell_type": "code",
      "execution_count": 59,
      "metadata": {
        "id": "Dkqc3IWqx6i_"
      },
      "outputs": [],
      "source": [
        "from sklearn.model_selection import cross_val_score\n",
        "import sklearn.metrics"
      ]
    },
    {
      "cell_type": "code",
      "execution_count": 60,
      "metadata": {
        "id": "Z7uXhcBSx6i_",
        "outputId": "0e53d103-cc6f-4d2e-eb27-3a42d3180c1e",
        "colab": {
          "base_uri": "https://localhost:8080/",
          "height": 206
        }
      },
      "outputs": [
        {
          "output_type": "execute_result",
          "data": {
            "text/html": [
              "\n",
              "  <div id=\"df-ceda2eb9-f88e-424d-8d55-d1e500f73228\">\n",
              "    <div class=\"colab-df-container\">\n",
              "      <div>\n",
              "<style scoped>\n",
              "    .dataframe tbody tr th:only-of-type {\n",
              "        vertical-align: middle;\n",
              "    }\n",
              "\n",
              "    .dataframe tbody tr th {\n",
              "        vertical-align: top;\n",
              "    }\n",
              "\n",
              "    .dataframe thead th {\n",
              "        text-align: right;\n",
              "    }\n",
              "</style>\n",
              "<table border=\"1\" class=\"dataframe\">\n",
              "  <thead>\n",
              "    <tr style=\"text-align: right;\">\n",
              "      <th></th>\n",
              "      <th>lambda_ElasticNet</th>\n",
              "      <th>RMSE_CV</th>\n",
              "    </tr>\n",
              "  </thead>\n",
              "  <tbody>\n",
              "    <tr>\n",
              "      <th>0</th>\n",
              "      <td>0.000</td>\n",
              "      <td>0.683684</td>\n",
              "    </tr>\n",
              "    <tr>\n",
              "      <th>1</th>\n",
              "      <td>0.001</td>\n",
              "      <td>0.583633</td>\n",
              "    </tr>\n",
              "    <tr>\n",
              "      <th>2</th>\n",
              "      <td>0.002</td>\n",
              "      <td>0.580799</td>\n",
              "    </tr>\n",
              "    <tr>\n",
              "      <th>3</th>\n",
              "      <td>0.003</td>\n",
              "      <td>0.578804</td>\n",
              "    </tr>\n",
              "    <tr>\n",
              "      <th>4</th>\n",
              "      <td>0.004</td>\n",
              "      <td>0.576902</td>\n",
              "    </tr>\n",
              "  </tbody>\n",
              "</table>\n",
              "</div>\n",
              "      <button class=\"colab-df-convert\" onclick=\"convertToInteractive('df-ceda2eb9-f88e-424d-8d55-d1e500f73228')\"\n",
              "              title=\"Convert this dataframe to an interactive table.\"\n",
              "              style=\"display:none;\">\n",
              "        \n",
              "  <svg xmlns=\"http://www.w3.org/2000/svg\" height=\"24px\"viewBox=\"0 0 24 24\"\n",
              "       width=\"24px\">\n",
              "    <path d=\"M0 0h24v24H0V0z\" fill=\"none\"/>\n",
              "    <path d=\"M18.56 5.44l.94 2.06.94-2.06 2.06-.94-2.06-.94-.94-2.06-.94 2.06-2.06.94zm-11 1L8.5 8.5l.94-2.06 2.06-.94-2.06-.94L8.5 2.5l-.94 2.06-2.06.94zm10 10l.94 2.06.94-2.06 2.06-.94-2.06-.94-.94-2.06-.94 2.06-2.06.94z\"/><path d=\"M17.41 7.96l-1.37-1.37c-.4-.4-.92-.59-1.43-.59-.52 0-1.04.2-1.43.59L10.3 9.45l-7.72 7.72c-.78.78-.78 2.05 0 2.83L4 21.41c.39.39.9.59 1.41.59.51 0 1.02-.2 1.41-.59l7.78-7.78 2.81-2.81c.8-.78.8-2.07 0-2.86zM5.41 20L4 18.59l7.72-7.72 1.47 1.35L5.41 20z\"/>\n",
              "  </svg>\n",
              "      </button>\n",
              "      \n",
              "  <style>\n",
              "    .colab-df-container {\n",
              "      display:flex;\n",
              "      flex-wrap:wrap;\n",
              "      gap: 12px;\n",
              "    }\n",
              "\n",
              "    .colab-df-convert {\n",
              "      background-color: #E8F0FE;\n",
              "      border: none;\n",
              "      border-radius: 50%;\n",
              "      cursor: pointer;\n",
              "      display: none;\n",
              "      fill: #1967D2;\n",
              "      height: 32px;\n",
              "      padding: 0 0 0 0;\n",
              "      width: 32px;\n",
              "    }\n",
              "\n",
              "    .colab-df-convert:hover {\n",
              "      background-color: #E2EBFA;\n",
              "      box-shadow: 0px 1px 2px rgba(60, 64, 67, 0.3), 0px 1px 3px 1px rgba(60, 64, 67, 0.15);\n",
              "      fill: #174EA6;\n",
              "    }\n",
              "\n",
              "    [theme=dark] .colab-df-convert {\n",
              "      background-color: #3B4455;\n",
              "      fill: #D2E3FC;\n",
              "    }\n",
              "\n",
              "    [theme=dark] .colab-df-convert:hover {\n",
              "      background-color: #434B5C;\n",
              "      box-shadow: 0px 1px 3px 1px rgba(0, 0, 0, 0.15);\n",
              "      filter: drop-shadow(0px 1px 2px rgba(0, 0, 0, 0.3));\n",
              "      fill: #FFFFFF;\n",
              "    }\n",
              "  </style>\n",
              "\n",
              "      <script>\n",
              "        const buttonEl =\n",
              "          document.querySelector('#df-ceda2eb9-f88e-424d-8d55-d1e500f73228 button.colab-df-convert');\n",
              "        buttonEl.style.display =\n",
              "          google.colab.kernel.accessAllowed ? 'block' : 'none';\n",
              "\n",
              "        async function convertToInteractive(key) {\n",
              "          const element = document.querySelector('#df-ceda2eb9-f88e-424d-8d55-d1e500f73228');\n",
              "          const dataTable =\n",
              "            await google.colab.kernel.invokeFunction('convertToInteractive',\n",
              "                                                     [key], {});\n",
              "          if (!dataTable) return;\n",
              "\n",
              "          const docLinkHtml = 'Like what you see? Visit the ' +\n",
              "            '<a target=\"_blank\" href=https://colab.research.google.com/notebooks/data_table.ipynb>data table notebook</a>'\n",
              "            + ' to learn more about interactive tables.';\n",
              "          element.innerHTML = '';\n",
              "          dataTable['output_type'] = 'display_data';\n",
              "          await google.colab.output.renderOutput(dataTable, element);\n",
              "          const docLink = document.createElement('div');\n",
              "          docLink.innerHTML = docLinkHtml;\n",
              "          element.appendChild(docLink);\n",
              "        }\n",
              "      </script>\n",
              "    </div>\n",
              "  </div>\n",
              "  "
            ],
            "text/plain": [
              "   lambda_ElasticNet   RMSE_CV\n",
              "0              0.000  0.683684\n",
              "1              0.001  0.583633\n",
              "2              0.002  0.580799\n",
              "3              0.003  0.578804\n",
              "4              0.004  0.576902"
            ]
          },
          "metadata": {},
          "execution_count": 60
        }
      ],
      "source": [
        "RMSE_CV=[]\n",
        "iterator= np.arange(0.0,0.02,0.001)\n",
        "for i in iterator:\n",
        "    MSE = -cross_val_score(estimator = ElasticNet(alpha=i), X = X_train, y = y_train, cv = 5 , scoring=\"neg_mean_squared_error\" )\n",
        "    RMSE_CV.append(np.sqrt(MSE).mean())\n",
        "    \n",
        "output = pd.DataFrame(list(iterator), columns=['lambda_ElasticNet'])\n",
        "output['RMSE_CV']=RMSE_CV\n",
        "\n",
        "output.head()"
      ]
    },
    {
      "cell_type": "code",
      "execution_count": 61,
      "metadata": {
        "id": "I0yGRRwMx6i_",
        "outputId": "e16354dd-1353-47ea-fe44-72b07d895297",
        "colab": {
          "base_uri": "https://localhost:8080/"
        }
      },
      "outputs": [
        {
          "output_type": "execute_result",
          "data": {
            "text/plain": [
              "7"
            ]
          },
          "metadata": {},
          "execution_count": 61
        }
      ],
      "source": [
        "output['RMSE_CV'].idxmin()"
      ]
    },
    {
      "cell_type": "code",
      "execution_count": 62,
      "metadata": {
        "id": "fhJgsiflx6i_",
        "outputId": "d4f0a35b-bb1f-4ccd-d5c5-b7b3fa7175e8",
        "colab": {
          "base_uri": "https://localhost:8080/"
        }
      },
      "outputs": [
        {
          "output_type": "execute_result",
          "data": {
            "text/plain": [
              "0.007"
            ]
          },
          "metadata": {},
          "execution_count": 62
        }
      ],
      "source": [
        "output['lambda_ElasticNet'][output['RMSE_CV'].idxmin()]"
      ]
    },
    {
      "cell_type": "code",
      "execution_count": 63,
      "metadata": {
        "id": "hYNt4Dgyx6i_",
        "outputId": "88cbf34d-c5cb-4822-dde7-217c5781a5a0",
        "colab": {
          "base_uri": "https://localhost:8080/",
          "height": 284
        }
      },
      "outputs": [
        {
          "output_type": "display_data",
          "data": {
            "image/png": "[encoded data removed]",
            "text/plain": [
              "<Figure size 432x288 with 1 Axes>"
            ]
          },
          "metadata": {}
        }
      ],
      "source": [
        "sns.lineplot(x='lambda_ElasticNet', y='RMSE_CV', data=output , color='r', label=\"RMSE_CV vs lambda_ridge\")\n",
        "plt.show()"
      ]
    },
    {
      "cell_type": "markdown",
      "metadata": {
        "id": "xuyHshSdx6i_"
      },
      "source": [
        "# Done!"
      ]
    }
  ],
  "metadata": {
    "kernelspec": {
      "display_name": "Python 3",
      "language": "python",
      "name": "python3"
    },
    "language_info": {
      "codemirror_mode": {
        "name": "ipython",
        "version": 3
      },
      "file_extension": ".py",
      "mimetype": "text/x-python",
      "name": "python",
      "nbconvert_exporter": "python",
      "pygments_lexer": "ipython3",
      "version": "3.7.6"
    },
    "colab": {
      "name": "04_sklearn_penalization_1.ipynb",
      "provenance": [],
      "include_colab_link": true
    }
  },
  "nbformat": 4,
  "nbformat_minor": 0
}